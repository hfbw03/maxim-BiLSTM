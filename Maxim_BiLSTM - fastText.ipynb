{
 "cells": [
  {
   "attachments": {},
   "cell_type": "markdown",
   "metadata": {
    "colab_type": "text",
    "id": "Q1nja3002K6d"
   },
   "source": [
    "# **Sentiment Analysis of Google Play Store Reviews Using BiLSTM and fastText Word Embedding**\n",
    "Model *deep learning* yang dibangun menggunakan *PyTorch* dan *TorchText* untuk mengklasifikasikan sentimen ulasan aplikasi menggunakan data yang diambil dari *Google Play Store*.\n",
    "\n",
    "(Kode ini untuk skripsi)\n",
    "\n",
    "1. [Pengumpulan Data](#1-pengumpulan-data)\n",
    "2. [Preprocessing Data](#2-preprocessing-data)\n",
    "    - Text Cleaning\n",
    "    - Case Folding\n",
    "    - Tokenization\n",
    "    - Stopword Removal\n",
    "    - Stemming\n",
    "3. [Pelabelan Data](#3-pelabelan-data)\n",
    "4. [Pembagian Data](#4-pembagian-data-wip)\n",
    "5. [Ekstraksi Fitur fastText](#5-ekstraksi-fitur-fasttext)\n",
    "6. [Pembentukan Model BiLSTM](#6-pembentukan-model-bilstm)\n",
    "7. [Pelatihan Model](#7-pelatihan-model)\n",
    "8. [Klasifikasi Sentimen](#8-klasifikasi-sentimen)\n",
    "9. [Evaluasi Model](#9-evaluasi-model)"
   ]
  },
  {
   "attachments": {},
   "cell_type": "markdown",
   "metadata": {},
   "source": [
    "<a id='section1'></a>\n",
    "# **1. Pengumpulan Data**\n",
    "Pada tahap pengumpulan data, penelitian ini melakukan scraping data ulasan pada Google Play Store terhadap aplikasi Maxim dengan menggunakan package google-play-scraper. Data yang diambil berjumlah 10.000 ulasan berbahasa Indonesia terbaru pada aplikasi Maxim.\n",
    "\n",
    "Dalam ulasan aplikasi, sentimen positif sering kali lebih dominan daripada negatif. Jika kita mengambil data secara acak, kemungkinan besar kita mendapatkan bias ke kelas positif, yang dapat menyebabkan model menjadi terlalu condong ke sentimen positif. Mengambil jumlah yang sama untuk ulasan positif dan negatif (rating 1-2 untuk negatif, 4-5 untuk positif) membantu menghindari bias ini, sehingga model dapat belajar secara merata dari kedua sentimen.\n",
    "\n",
    "(Penggunaan skema ini mungkin berpengaruh pada penentuan metode penarikan sampel)"
   ]
  },
  {
   "cell_type": "code",
   "execution_count": 40,
   "metadata": {},
   "outputs": [],
   "source": [
    "# Package yang diperlukan untuk analisis sentimen\n",
    "from google_play_scraper import app, Sort, reviews \n",
    "import os                               \n",
    "import json                                         \n",
    "import csv                                          \n",
    "import pandas as pd                                 \n",
    "import numpy as np\n",
    "import re\n",
    "import time\n",
    "import spacy\n",
    "import random\n",
    "from pathlib import Path\n",
    "from datetime import datetime\n",
    "from collections import Counter\n",
    "from pprint import pprint\n",
    "\n",
    "import torch \n",
    "import torch.nn as nn\n",
    "import torch.nn.functional as F\n",
    "import torch.optim as optim\n",
    "from torchinfo import summary\n",
    "\n",
    "import torchtext.legacy\n",
    "from torchtext.legacy import data \n",
    "from torchtext.vocab import Vectors\n",
    "\n",
    "import fasttext\n",
    "import fasttext.util\n",
    "import gensim\n",
    "import compress_fasttext\n",
    "\n",
    "import nltk\n",
    "from nltk.tokenize.treebank import TreebankWordDetokenizer\n",
    "from nltk.sentiment.vader import SentimentIntensityAnalyzer\n",
    "\n",
    "from Sastrawi.Stemmer.StemmerFactory import StemmerFactory\n",
    "from Sastrawi.StopWordRemover.StopWordRemoverFactory import StopWordRemoverFactory\n",
    "\n",
    "import ast\n",
    "from googletrans import Translator\n",
    "from ast import literal_eval\n",
    "import matplotlib.pyplot as plt\n",
    "import seaborn as sns\n",
    "from sklearn.metrics import accuracy_score, precision_score, recall_score, f1_score, classification_report, confusion_matrix"
   ]
  },
  {
   "cell_type": "code",
   "execution_count": null,
   "metadata": {},
   "outputs": [],
   "source": [
    "# Mengubah working directory\n",
    "os.chdir('D:\\Dokumen\\Skripsi\\Referensi\\Kode\\Sentiment Analysis_BiLSTM_fastText')"
   ]
  },
  {
   "cell_type": "code",
   "execution_count": null,
   "metadata": {},
   "outputs": [
    {
     "ename": "NameError",
     "evalue": "name 'os' is not defined",
     "output_type": "error",
     "traceback": [
      "\u001b[1;31m---------------------------------------------------------------------------\u001b[0m",
      "\u001b[1;31mNameError\u001b[0m                                 Traceback (most recent call last)",
      "Cell \u001b[1;32mIn[1], line 3\u001b[0m\n\u001b[0;32m      1\u001b[0m \u001b[39m# Kode scraping data ulasan aplikasi Maxim (RATING + VADER, versi ini yang digunakan)\u001b[39;00m\n\u001b[0;32m      2\u001b[0m \u001b[39m# Mengubah working directory\u001b[39;00m\n\u001b[1;32m----> 3\u001b[0m os\u001b[39m.\u001b[39mchdir(\u001b[39m'\u001b[39m\u001b[39mD:\u001b[39m\u001b[39m\\\u001b[39m\u001b[39mDokumen\u001b[39m\u001b[39m\\\u001b[39m\u001b[39mSkripsi\u001b[39m\u001b[39m\\\u001b[39m\u001b[39mReferensi\u001b[39m\u001b[39m\\\u001b[39m\u001b[39mKode\u001b[39m\u001b[39m\\\u001b[39m\u001b[39mSentiment Analysis_BiLSTM_GloVe\u001b[39m\u001b[39m'\u001b[39m)\n\u001b[0;32m      5\u001b[0m \u001b[39m# Fungsi untuk memberikan label berdasarkan rating ulasan\u001b[39;00m\n\u001b[0;32m      6\u001b[0m \u001b[39mdef\u001b[39;00m \u001b[39mlabel_sentiment\u001b[39m(rating):\n",
      "\u001b[1;31mNameError\u001b[0m: name 'os' is not defined"
     ]
    }
   ],
   "source": [
    "# Kode scraping data ulasan aplikasi Maxim\n",
    "# Fungsi untuk memberikan label berdasarkan rating ulasan\n",
    "def label_sentiment(rating):\n",
    "    if rating in [1, 2]:\n",
    "        return 'negatif'\n",
    "    elif rating in [4, 5]:\n",
    "        return 'positif'\n",
    "    return None  # Untuk kasus ulasan dengan rating 3, tidak diberi label dan akan dihapus\n",
    "\n",
    "# Variabel untuk menyimpan ulasan berlabel positif dan negatif\n",
    "low_rating_reviews = []     # Ulasan dengan rating 1-2\n",
    "high_rating_reviews = []    # Ulasan dengan rating 4-5\n",
    "\n",
    "# Target jumlah ulasan untuk masing-masing kategori\n",
    "target_count = 2500\n",
    "\n",
    "# Proses scraping ulasan\n",
    "while len(low_rating_reviews) < target_count or len(high_rating_reviews) < target_count:\n",
    "    # Ambil batch ulasan dengan jumlah tinggi\n",
    "    reviews_data, continuation_token = reviews(\n",
    "        'com.taxsee.taxsee',    # id aplikasi dari URL aplikasi pada Google Play Store\n",
    "        lang='id',              # Bahasa ulasan\n",
    "        country='id',           # Negara ulasan\n",
    "        sort=Sort.NEWEST,       # Sortir ulasan terbaru\n",
    "        count=100000            # Ambil batch ulasan besar\n",
    "    )\n",
    "\n",
    "    # Proses setiap ulasan\n",
    "    for review in reviews_data:\n",
    "        # Hentikan jika kedua kategori ulasan sudah memenuhi target\n",
    "        if len(low_rating_reviews) >= target_count and len(high_rating_reviews) >= target_count:\n",
    "            break\n",
    "\n",
    "        rating = review.get('score')\n",
    "        sentiment = label_sentiment(rating)\n",
    "\n",
    "        # Tambahkan ulasan berdasarkan sentimen\n",
    "        if sentiment == 'negatif' and len(low_rating_reviews) < target_count:\n",
    "            low_rating_reviews.append(review)\n",
    "        elif sentiment == 'positif' and len(high_rating_reviews) < target_count:\n",
    "            high_rating_reviews.append(review)\n",
    "\n",
    "    # Hentikan jika semua target terpenuhi\n",
    "    if len(low_rating_reviews) >= target_count and len(high_rating_reviews) >= target_count:\n",
    "        break\n",
    "\n",
    "    # Hentikan jika tidak ada token kelanjutan (ulasan habis)\n",
    "    if continuation_token is None:\n",
    "        break\n",
    "\n",
    "# Gabungkan ulasan dengan rating rendah dan tinggi\n",
    "combined_reviews = low_rating_reviews + high_rating_reviews\n",
    "\n",
    "# Simpan hasil scraping ke dalam file CSV\n",
    "with open('combined_reviews.csv', 'w', encoding='utf8', newline='') as output_file:\n",
    "    # Hanya menyimpan kolom yang relevan\n",
    "    fieldnames = ['content', 'score']  # Tidak ada kolom sentimen di tahap ini\n",
    "    writer = csv.DictWriter(output_file, fieldnames=fieldnames)\n",
    "    writer.writeheader()\n",
    "    \n",
    "    for review in combined_reviews:\n",
    "        writer.writerow({\n",
    "            'content': review.get('content', ''),  # Teks ulasan\n",
    "            'score': review.get('score', '')      # Rating ulasan\n",
    "        })\n",
    "\n",
    "print(\"Data ulasan berhasil disimpan ke 'combined_reviews.csv'\")"
   ]
  },
  {
   "cell_type": "code",
   "execution_count": null,
   "metadata": {},
   "outputs": [],
   "source": [
    "# Kode scraping data ulasan aplikasi Maxim (versi padat)\n",
    "def label_sentiment(rating):\n",
    "    return 'negatif' if rating in [1, 2] else 'positif' if rating in [4, 5] else None\n",
    "\n",
    "# Target jumlah ulasan untuk masing-masing kategori\n",
    "target_count = 2500\n",
    "low_rating_reviews, high_rating_reviews = [], []\n",
    "\n",
    "# Proses scraping ulasan\n",
    "while len(low_rating_reviews) < target_count or len(high_rating_reviews) < target_count:\n",
    "    reviews_data, continuation_token = reviews(\n",
    "        'com.taxsee.taxsee', lang='id', country='id', sort=Sort.NEWEST, count=100000\n",
    "    )\n",
    "\n",
    "    for review in reviews_data:\n",
    "        sentiment = label_sentiment(review.get('score'))\n",
    "        if sentiment == 'negatif' and len(low_rating_reviews) < target_count:\n",
    "            low_rating_reviews.append(review)\n",
    "        elif sentiment == 'positif' and len(high_rating_reviews) < target_count:\n",
    "            high_rating_reviews.append(review)\n",
    "        if len(low_rating_reviews) >= target_count and len(high_rating_reviews) >= target_count:\n",
    "            break\n",
    "\n",
    "    if continuation_token is None:\n",
    "        break\n",
    "\n",
    "# Gabungkan ulasan dengan rating rendah dan tinggi\n",
    "combined_reviews = low_rating_reviews + high_rating_reviews\n",
    "\n",
    "# Simpan hasil scraping ke dalam file CSV\n",
    "with open('combined_reviews.csv', 'w', encoding='utf8', newline='') as output_file:\n",
    "    # Hanya menyimpan kolom yang relevan\n",
    "    fieldnames = ['content', 'score']  # Tidak ada kolom sentimen di tahap ini\n",
    "    writer = csv.DictWriter(output_file, fieldnames=fieldnames)\n",
    "    writer.writeheader()\n",
    "    \n",
    "    for review in combined_reviews:\n",
    "        writer.writerow({\n",
    "            'content': review.get('content', ''),  # Teks ulasan\n",
    "            'score': review.get('score', '')      # Rating ulasan\n",
    "        })"
   ]
  },
  {
   "cell_type": "code",
   "execution_count": 2,
   "metadata": {
    "colab": {
     "base_uri": "https://localhost:8080/",
     "height": 204
    },
    "colab_type": "code",
    "id": "nFyis9DPYpmg",
    "outputId": "2c58e9c9-034e-48dd-9089-5b65d7950ece"
   },
   "outputs": [
    {
     "data": {
      "text/html": [
       "<div>\n",
       "<style scoped>\n",
       "    .dataframe tbody tr th:only-of-type {\n",
       "        vertical-align: middle;\n",
       "    }\n",
       "\n",
       "    .dataframe tbody tr th {\n",
       "        vertical-align: top;\n",
       "    }\n",
       "\n",
       "    .dataframe thead th {\n",
       "        text-align: right;\n",
       "    }\n",
       "</style>\n",
       "<table border=\"1\" class=\"dataframe\">\n",
       "  <thead>\n",
       "    <tr style=\"text-align: right;\">\n",
       "      <th></th>\n",
       "      <th>0</th>\n",
       "      <th>1</th>\n",
       "      <th>2</th>\n",
       "    </tr>\n",
       "  </thead>\n",
       "  <tbody>\n",
       "    <tr>\n",
       "      <th>0</th>\n",
       "      <td>content</td>\n",
       "      <td>score</td>\n",
       "      <td>at</td>\n",
       "    </tr>\n",
       "    <tr>\n",
       "      <th>1</th>\n",
       "      <td>Ongkosnya tidak memanusiakan manusia untuk dri...</td>\n",
       "      <td>1</td>\n",
       "      <td>2024-10-30 23:22:32</td>\n",
       "    </tr>\n",
       "    <tr>\n",
       "      <th>2</th>\n",
       "      <td>baik</td>\n",
       "      <td>1</td>\n",
       "      <td>2024-10-30 21:16:35</td>\n",
       "    </tr>\n",
       "    <tr>\n",
       "      <th>3</th>\n",
       "      <td>terimakasih</td>\n",
       "      <td>1</td>\n",
       "      <td>2024-10-30 20:42:01</td>\n",
       "    </tr>\n",
       "    <tr>\n",
       "      <th>4</th>\n",
       "      <td>aplikasi susah di pakai</td>\n",
       "      <td>1</td>\n",
       "      <td>2024-10-30 20:12:49</td>\n",
       "    </tr>\n",
       "  </tbody>\n",
       "</table>\n",
       "</div>"
      ],
      "text/plain": [
       "                                                   0      1  \\\n",
       "0                                            content  score   \n",
       "1  Ongkosnya tidak memanusiakan manusia untuk dri...      1   \n",
       "2                                               baik      1   \n",
       "3                                        terimakasih      1   \n",
       "4                            aplikasi susah di pakai      1   \n",
       "\n",
       "                     2  \n",
       "0                   at  \n",
       "1  2024-10-30 23:22:32  \n",
       "2  2024-10-30 21:16:35  \n",
       "3  2024-10-30 20:42:01  \n",
       "4  2024-10-30 20:12:49  "
      ]
     },
     "execution_count": 2,
     "metadata": {},
     "output_type": "execute_result"
    }
   ],
   "source": [
    "# Membaca file .csv hasil scraping ulasan\n",
    "# Saran: mungkin bisa diperlihatkan sampel ulasan dari setiap rating yang diambil\n",
    "df = pd.read_csv(\"combined_reviews.csv\", engine=\"python\", header=None)\n",
    "\n",
    "df.head(5)"
   ]
  },
  {
   "cell_type": "code",
   "execution_count": 3,
   "metadata": {},
   "outputs": [
    {
     "data": {
      "text/html": [
       "<div>\n",
       "<style scoped>\n",
       "    .dataframe tbody tr th:only-of-type {\n",
       "        vertical-align: middle;\n",
       "    }\n",
       "\n",
       "    .dataframe tbody tr th {\n",
       "        vertical-align: top;\n",
       "    }\n",
       "\n",
       "    .dataframe thead th {\n",
       "        text-align: right;\n",
       "    }\n",
       "</style>\n",
       "<table border=\"1\" class=\"dataframe\">\n",
       "  <thead>\n",
       "    <tr style=\"text-align: right;\">\n",
       "      <th></th>\n",
       "      <th>content</th>\n",
       "    </tr>\n",
       "  </thead>\n",
       "  <tbody>\n",
       "    <tr>\n",
       "      <th>1</th>\n",
       "      <td>Ongkosnya tidak memanusiakan manusia untuk dri...</td>\n",
       "    </tr>\n",
       "    <tr>\n",
       "      <th>2</th>\n",
       "      <td>baik</td>\n",
       "    </tr>\n",
       "    <tr>\n",
       "      <th>3</th>\n",
       "      <td>terimakasih</td>\n",
       "    </tr>\n",
       "    <tr>\n",
       "      <th>4</th>\n",
       "      <td>aplikasi susah di pakai</td>\n",
       "    </tr>\n",
       "    <tr>\n",
       "      <th>5</th>\n",
       "      <td>Tolong lah management pihak maxim di perbaiki ...</td>\n",
       "    </tr>\n",
       "  </tbody>\n",
       "</table>\n",
       "</div>"
      ],
      "text/plain": [
       "                                             content\n",
       "1  Ongkosnya tidak memanusiakan manusia untuk dri...\n",
       "2                                               baik\n",
       "3                                        terimakasih\n",
       "4                            aplikasi susah di pakai\n",
       "5  Tolong lah management pihak maxim di perbaiki ..."
      ]
     },
     "execution_count": 3,
     "metadata": {},
     "output_type": "execute_result"
    }
   ],
   "source": [
    "# Hapus kolom yang tidak diperlukan, yang diambil hanya \"content\"\n",
    "columns_to_drop = [1,2]\n",
    "df = df.drop(columns=columns_to_drop)\n",
    "\n",
    "# Hapus baris pertama\n",
    "df = df.rename(columns=df.iloc[0]).drop(df.index[0])\n",
    "\n",
    "# Simpan dataframe yang telah diubah ke dalam file .csv\n",
    "df.to_csv('review_content.csv', index=False)\n",
    "\n",
    "# Memanggil data\n",
    "df.head(5)"
   ]
  },
  {
   "attachments": {},
   "cell_type": "markdown",
   "metadata": {},
   "source": [
    "<a id='section2'></a>\n",
    "# **2. Preprocessing Data**\n",
    "Pra-proses teks atau *text preprocessing adalah* serangkaian proses yang digunakan untuk menyiapkan teks mentah agar lebih siap untuk dianalisis. Tujuan utama *text preprocessing* adalah mengurangi kebisingan dan menyederhanakan teks sehingga analisis lanjutan atau algoritma pembelajaran mesin dapat bekerja lebih efisien dan efektif. Pada tahapan *text preprocessing* semua dilakukan dengan menggunakan *library* dari *Natural Language Toolkit* (NLTK), untuk memudahkan proses *text preprocessing*."
   ]
  },
  {
   "cell_type": "code",
   "execution_count": 4,
   "metadata": {},
   "outputs": [],
   "source": [
    "# Memanggil model spaCy (untuk tokenisasi saja)\n",
    "# Apakah sel ini diperlukan? Jika tidak dihapus saja\n",
    "nlp = spacy.blank(\"id\")  # Bahasa Indonesia tidak ada model bawaan, menggunakan model \"blank\""
   ]
  },
  {
   "attachments": {},
   "cell_type": "markdown",
   "metadata": {},
   "source": [
    "Dua sel dibawah hanya berfungsi untuk mengecek dan menangani kasus baris dengan nilai NaN, yang dapat menyebabkan kode pemrosesan teks tidak mampu membaca baris tersebut, karena tidak memiliki datatype str."
   ]
  },
  {
   "cell_type": "code",
   "execution_count": 5,
   "metadata": {},
   "outputs": [
    {
     "name": "stdout",
     "output_type": "stream",
     "text": [
      "Empty DataFrame\n",
      "Columns: [content]\n",
      "Index: []\n"
     ]
    }
   ],
   "source": [
    "# Menampilkan baris untuk mengecek yang memiliki nilai NaN pada kolom 'content'\n",
    "print(df[df['content'].isna()])"
   ]
  },
  {
   "cell_type": "code",
   "execution_count": 6,
   "metadata": {},
   "outputs": [
    {
     "name": "stdout",
     "output_type": "stream",
     "text": [
      "0\n"
     ]
    }
   ],
   "source": [
    "# Menghapus baris dengan nilai NaN pada kolom 'content'\n",
    "df = df.dropna(subset=['content'])\n",
    "\n",
    "# Periksa kembali apakah masih ada nilai NaN\n",
    "print(df['content'].isna().sum())  # Output harus 0"
   ]
  },
  {
   "attachments": {},
   "cell_type": "markdown",
   "metadata": {},
   "source": [
    "Dibawah didefinisikan kode untuk tahap-tahap text preprocessing. Adapun tahap-tahap yang dilakukan adalah:\n",
    "- **Text Cleaning**: proses menghapus tanda baca dan karakter yang tidak diperlukan seperti URL, angka, karakter spesial (seperti emoji), tanda baca, dan spasi berlebih.\n",
    "- **Case Folding**: proses dimana seluruh huruf dalam teks ulasan disesuaikan menjadi huruf kecil atau huruf besar, sehingga seluruh huruf dalam teks memiliki format penulisan yang seragam.\n",
    "- **Tokenization**: proses membagi teks atau dokumen menjadi unit‑unit yang lebih kecil yang disebut ”token”. Token merujuk pada kata‑kata individual dalam teks.\n",
    "- **Stopword Removal**: proses mengidentifikasi dan menghapus kata‑kata umum yang tidak memberikan informasi signifikan dalam analisis sentimen.\n",
    "- **Stemming**: proses yang melibatkan penghilangan akhiran atau awalan kata‑kata untuk menghasilkan bentuk dasar atau ”akar” kata. "
   ]
  },
  {
   "cell_type": "code",
   "execution_count": null,
   "metadata": {},
   "outputs": [
    {
     "name": "stdout",
     "output_type": "stream",
     "text": [
      "Saved cleansing result to processed_data_cleansing.csv\n",
      "Saved case_folding result to processed_data_case_folding.csv\n",
      "Saved tokenization result to processed_data_tokenization.csv\n",
      "Saved stopword_removal result to processed_data_stopword_removal.csv\n",
      "Saved stemming result to processed_data_stemming.csv\n"
     ]
    }
   ],
   "source": [
    "# Kode per langkah preprocessing\n",
    "# Step 1: Cleansing text - menghapus URL, angka, karakter spesial, dan spasi lebih\n",
    "def clean_text(text):\n",
    "    text = re.sub(r'http\\S+|www\\S+|https\\S+', '', text, flags=re.MULTILINE)  # Hapus URL\n",
    "    text = re.sub(r'\\d+', '', text)  # Hapus angka\n",
    "    text = re.sub(r'[^a-zA-Z\\s]', '', text)  # Hapus karakter spesial\n",
    "    text = re.sub(r'\\s+', ' ', text).strip()  # Hapus spasi berlebih\n",
    "    return text\n",
    "\n",
    "# Step 2: Case folding - konversi ke lowercase\n",
    "def case_folding(text):\n",
    "    return text.lower()\n",
    "\n",
    "# Step 3: Tokenisasi - memisah ulasan menjadi kata\n",
    "def tokenize(text):\n",
    "    doc = nlp(text)\n",
    "    return [token.text for token in doc]  # Kembalikan dalam bentuk list token\n",
    "\n",
    "# Step 4: Menghapus stopword menggunakan daftar dari Sastrawi (Input list, Output list)\n",
    "stopword_factory = StopWordRemoverFactory()\n",
    "stopword_list = set(stopword_factory.get_stop_words())  # Simpan dalam set agar pencarian lebih cepat\n",
    "\n",
    "def remove_stopwords(tokens):\n",
    "    return [word for word in tokens if word not in stopword_list]  # Hapus stopword\n",
    "\n",
    "# Step 5: Stemming menggunakan Sastrawi (Input list, Output list)\n",
    "stemmer_factory = StemmerFactory()\n",
    "stemmer = stemmer_factory.create_stemmer()\n",
    "\n",
    "def stemming(tokens):\n",
    "    return [stemmer.stem(word) for word in tokens]\n",
    "\n",
    "# Fungsi untuk menyimpan hasil setiap langkah ke CSV\n",
    "def save_to_csv(df, step_name):\n",
    "    filename = f'processed_data_{step_name}.csv'\n",
    "    df.to_csv(filename, index=False)\n",
    "    print(f\"Saved {step_name} result to {filename}\")\n",
    "\n",
    "# Fungsi utama untuk memproses dan menyimpan setiap langkah\n",
    "def process_and_save_steps(df):\n",
    "    # Step 1: Cleansing text\n",
    "    df['cleaned_text'] = df['content'].apply(clean_text)\n",
    "    save_to_csv(df[['content', 'cleaned_text']], 'cleansing')\n",
    "\n",
    "    # Step 2: Case folding\n",
    "    df['case_folding'] = df['cleaned_text'].apply(case_folding)\n",
    "    save_to_csv(df[['cleaned_text', 'case_folding']], 'case_folding')\n",
    "\n",
    "    # Step 3: Tokenisasi\n",
    "    df['tokenized_text'] = df['case_folding'].apply(tokenize)\n",
    "    save_to_csv(df[['case_folding', 'tokenized_text']], 'tokenization')\n",
    "\n",
    "    # Step 4: Penghapusan stopword\n",
    "    df['no_stopwords'] = df['tokenized_text'].apply(remove_stopwords)\n",
    "    save_to_csv(df[['tokenized_text', 'no_stopwords']], 'stopword_removal')\n",
    "\n",
    "    # Step 5: Stemming\n",
    "    df['stemmed_text'] = df['no_stopwords'].apply(stemming)\n",
    "    save_to_csv(df[['no_stopwords', 'stemmed_text']], 'stemming')\n",
    "\n",
    "# Membaca file CSV sebagai DataFrame\n",
    "df = pd.read_csv('review_content.csv')\n",
    "\n",
    "# Menjalankan proses preprocessing\n",
    "process_and_save_steps(df)"
   ]
  },
  {
   "cell_type": "code",
   "execution_count": null,
   "metadata": {},
   "outputs": [],
   "source": [
    "# Kode per langkah preprocessing (tanpa stopword removal)\n",
    "# Step 1: Cleansing text - menghapus URL, angka, karakter spesial, dan spasi lebih\n",
    "def clean_text(text):\n",
    "    # Menghapus URL\n",
    "    text = re.sub(r'http\\S+|www\\S+|https\\S+', '', text, flags=re.MULTILINE)\n",
    "    # Menghapus angka\n",
    "    text = re.sub(r'\\d+', '', text)\n",
    "    # Menghapus karakter spesial dan tanda baca\n",
    "    text = re.sub(r'[^a-zA-Z\\s]', '', text)\n",
    "    # Menghapus spasi lebih\n",
    "    text = re.sub(r'\\s+', ' ', text).strip()\n",
    "    return text\n",
    "\n",
    "# Step 2: Case folding - konversi ulasan ke lowercase\n",
    "def case_folding(text):\n",
    "    return text.lower()\n",
    "\n",
    "# Step 3: Stemming menggunakan Sastrawi\n",
    "stemmer_factory = StemmerFactory()\n",
    "stemmer = stemmer_factory.create_stemmer()\n",
    "\n",
    "def stemming(text):\n",
    "    return stemmer.stem(text)\n",
    "\n",
    "# Step 4: Tokenisasi menggunakan spaCy\n",
    "def tokenize(text):\n",
    "    doc = nlp(text)\n",
    "    return ' '.join([token.text for token in doc])\n",
    "\n",
    "# Fungsi untuk menyimpan data hasil setiap langkah ke CSV\n",
    "def save_to_csv(df, step_name):\n",
    "    filename = f'processed_data_{step_name}.csv'\n",
    "    df.to_csv(filename, index=False)\n",
    "    print(f\"Saved {step_name} result to {filename}\")\n",
    "\n",
    "# Fungsi utama untuk memproses setiap langkah satu per satu dan menyimpan hasilnya ke CSV\n",
    "def process_and_save_steps(df):\n",
    "    # Step 1: Cleansing text\n",
    "    df['cleaned_text'] = df['content'].apply(clean_text)\n",
    "    save_to_csv(df[['content', 'cleaned_text']], 'cleansing')\n",
    "    \n",
    "    # Step 2: Case folding\n",
    "    df['case_folding'] = df['cleaned_text'].apply(case_folding)\n",
    "    save_to_csv(df[['cleaned_text', 'case_folding']], 'case_folding')\n",
    "\n",
    "    # Step 3: Stemming\n",
    "    df['stemmed_text'] = df['case_folding'].apply(stemming)\n",
    "    save_to_csv(df[['case_folding', 'stemmed_text']], 'stemming')\n",
    "\n",
    "    # Step 4: Tokenisasi\n",
    "    df['tokenized_text'] = df['stemmed_text'].apply(tokenize)\n",
    "    save_to_csv(df[['stemmed_text', 'tokenized_text']], 'tokenization')\n",
    "\n",
    "# Membaca file .csv sebagai DataFrame\n",
    "df = pd.read_csv('review_content.csv')\n",
    "\n",
    "# Memproses dan menyimpan setiap langkah ke CSV\n",
    "process_and_save_steps(df)"
   ]
  },
  {
   "cell_type": "code",
   "execution_count": 14,
   "metadata": {},
   "outputs": [
    {
     "name": "stdout",
     "output_type": "stream",
     "text": [
      "                                                content  \\\n",
      "0     Ongkosnya tidak memanusiakan manusia untuk dri...   \n",
      "1                                                  baik   \n",
      "2                                           terimakasih   \n",
      "3                               aplikasi susah di pakai   \n",
      "4     Tolong lah management pihak maxim di perbaiki ...   \n",
      "...                                                 ...   \n",
      "9994                                  pelayananya goood   \n",
      "9996                                             mantap   \n",
      "9997                                        sangat baik   \n",
      "9998                                             nyaman   \n",
      "9999  Order telah dipenuhi oleh: Roy Delmax Vin H Ta...   \n",
      "\n",
      "                                           cleaned_text  \\\n",
      "0     Ongkosnya tidak memanusiakan manusia untuk dri...   \n",
      "1                                                  baik   \n",
      "2                                           terimakasih   \n",
      "3                               aplikasi susah di pakai   \n",
      "4     Tolong lah management pihak maxim di perbaiki ...   \n",
      "...                                                 ...   \n",
      "9994                                  pelayananya goood   \n",
      "9996                                             mantap   \n",
      "9997                                        sangat baik   \n",
      "9998                                             nyaman   \n",
      "9999  Order telah dipenuhi oleh Roy Delmax Vin H Tal...   \n",
      "\n",
      "                                           case_folding  \\\n",
      "0     ongkosnya tidak memanusiakan manusia untuk dri...   \n",
      "1                                                  baik   \n",
      "2                                           terimakasih   \n",
      "3                               aplikasi susah di pakai   \n",
      "4     tolong lah management pihak maxim di perbaiki ...   \n",
      "...                                                 ...   \n",
      "9994                                  pelayananya goood   \n",
      "9996                                             mantap   \n",
      "9997                                        sangat baik   \n",
      "9998                                             nyaman   \n",
      "9999  order telah dipenuhi oleh roy delmax vin h tal...   \n",
      "\n",
      "                                         tokenized_text  \\\n",
      "0     [ongkosnya, tidak, memanusiakan, manusia, untu...   \n",
      "1                                                [baik]   \n",
      "2                                         [terimakasih]   \n",
      "3                          [aplikasi, susah, di, pakai]   \n",
      "4     [tolong, lah, management, pihak, maxim, di, pe...   \n",
      "...                                                 ...   \n",
      "9994                               [pelayananya, goood]   \n",
      "9996                                           [mantap]   \n",
      "9997                                     [sangat, baik]   \n",
      "9998                                           [nyaman]   \n",
      "9999  [order, telah, dipenuhi, oleh, roy, delmax, vi...   \n",
      "\n",
      "                                           no_stopwords  \\\n",
      "0         [ongkosnya, memanusiakan, manusia, drivernya]   \n",
      "1                                                [baik]   \n",
      "2                                         [terimakasih]   \n",
      "3                              [aplikasi, susah, pakai]   \n",
      "4     [lah, management, pihak, maxim, perbaiki, aku,...   \n",
      "...                                                 ...   \n",
      "9994                               [pelayananya, goood]   \n",
      "9996                                           [mantap]   \n",
      "9997                                     [sangat, baik]   \n",
      "9998                                           [nyaman]   \n",
      "9999  [order, dipenuhi, roy, delmax, vin, h, talasi,...   \n",
      "\n",
      "                                           stemmed_text  \n",
      "0                 [ongkos, manusia, manusia, drivernya]  \n",
      "1                                                [baik]  \n",
      "2                                         [terimakasih]  \n",
      "3                              [aplikasi, susah, pakai]  \n",
      "4     [lah, management, pihak, maxim, baik, aku, uda...  \n",
      "...                                                 ...  \n",
      "9994                               [pelayananya, goood]  \n",
      "9996                                           [mantap]  \n",
      "9997                                     [sangat, baik]  \n",
      "9998                                           [nyaman]  \n",
      "9999  [order, penuh, roy, delmax, vin, h, talas, mot...  \n",
      "\n",
      "[9709 rows x 6 columns]\n",
      "Data berhasil difilter dan disimpan.\n"
     ]
    }
   ],
   "source": [
    "# Filtering dan penghapusan baris dengan \"processed_text\" yang kosong (untuk kode per langkah)\n",
    "# Hapus baris yang kosong setelah preprocessing (cek apakah list kosong)\n",
    "df_filtered_full = df[df['stemmed_text'].apply(lambda x: len(x) > 0)]\n",
    "\n",
    "# Tampilkan hasil setelah filtering\n",
    "print(df_filtered_full)\n",
    "\n",
    "# Simpan hasil semua tahap text preprocessing ke file CSV\n",
    "df_filtered_full.to_csv('filtered_data_full.csv', index=False)\n",
    "\n",
    "# Simpan hanya ulasan awal ('content') dan hasil tokenisasi ke file CSV\n",
    "columns_to_drop = ['cleaned_text', 'case_folding', 'no_stopwords']\n",
    "df_filtered = df_filtered_full.drop(columns=columns_to_drop)\n",
    "\n",
    "# Ganti nama kolom hasil akhir agar sesuai\n",
    "df_filtered = df_filtered.rename(columns={'stemmed_text': 'processed_text'})\n",
    "\n",
    "# Simpan dataframe yang telah diubah ke dalam file .csv\n",
    "df_filtered.to_csv('filtered_data.csv', index=False)\n",
    "\n",
    "print(\"Data berhasil difilter dan disimpan.\")"
   ]
  },
  {
   "attachments": {},
   "cell_type": "markdown",
   "metadata": {},
   "source": [
    "<a id='section3'></a>\n",
    "# **3. Pelabelan Data**\n",
    "Proses pelabelan dilakukan dengan memberi label pada data ulasan, untuk mengetahui apakah suatu ulasan memiliki sentimen positif atau negatif. Pelabelan dilakukan secara otomatis dengan menggunakan metode *lexicon-based*, dengan menggunakan kamus Valence Aware Dictionary for Sentiment Reasoning (VADER)."
   ]
  },
  {
   "cell_type": "code",
   "execution_count": 20,
   "metadata": {},
   "outputs": [
    {
     "name": "stderr",
     "output_type": "stream",
     "text": [
      "[nltk_data] Downloading package vader_lexicon to\n",
      "[nltk_data]     C:\\Users\\Lenovo\\AppData\\Roaming\\nltk_data...\n"
     ]
    },
    {
     "data": {
      "text/plain": [
       "True"
      ]
     },
     "execution_count": 20,
     "metadata": {},
     "output_type": "execute_result"
    }
   ],
   "source": [
    "# Mengunduh leksikon VADER\n",
    "nltk.download('vader_lexicon')"
   ]
  },
  {
   "attachments": {},
   "cell_type": "markdown",
   "metadata": {},
   "source": [
    "Pertama, akan didefinisikan fungsi untuk menerjemahkan teks dari bahasa Indonesia ke bahasa Inggris, karena VADER menggunakan bahasa Inggris dalam pelabelannya. VADER akan mengembalikan nilai compound berdasarkan kata-kata dalam suatu teks, dan dari nilai ini kita bisa menentukan label untuk data. Untuk negatif, compound < -0.05; dan untuk positif > 0.05, dengan nilai compound di antaranya menandakan sentimen netral, yang tidak dipakai dalam penelitian ini dan akan dihapus."
   ]
  },
  {
   "cell_type": "code",
   "execution_count": 15,
   "metadata": {},
   "outputs": [],
   "source": [
    "# Membuat objek Google Translate dan VADER untuk pelabelan data (0.05)\n",
    "translator = Translator()\n",
    "analyzer = SentimentIntensityAnalyzer()\n",
    "\n",
    "# Fungsi untuk menerjemahkan teks dari bahasa Indonesia ke bahasa Inggris\n",
    "def translate_text(text):\n",
    "    try:\n",
    "        translated = translator.translate(text, src='id', dest='en')\n",
    "        return translated.text\n",
    "    except Exception as e:\n",
    "        print(f\"Error in translation: {e}\")\n",
    "        return text  # Jika gagal, kembalikan teks aslinya\n",
    "\n",
    "# Fungsi untuk pelabelan sentimen otomatis menggunakan VADER\n",
    "def vader_sentiment(text):\n",
    "    scores = analyzer.polarity_scores(text)\n",
    "    # Menentukan label berdasarkan skor compound\n",
    "    if scores['compound'] >= 0.05:\n",
    "        return 'positif'  \n",
    "    elif scores['compound'] <= -0.05:\n",
    "        return 'negatif'  \n",
    "    else:\n",
    "        return None  # Tidak digunakan jika nilai tidak memenuhi kedua syarat di atas\n",
    "\n",
    "# Menyimpan ulasan yang valid (tidak netral)\n",
    "filtered_reviews = []"
   ]
  },
  {
   "attachments": {},
   "cell_type": "markdown",
   "metadata": {},
   "source": [
    "Kode dibawah menerapkan fungsi yang telah didefinisikan pada data ulasan. Kolom content berisi ulasan asli, processed_text berisi ulasan yang sudah diproses, translated_text berisi processed_text yang sudah diterjemahkan ke bahasa Inggris, dan vader_sentiment adalah label berupa sentimen positif atau negatif berdasarkan skor compound VADER, yang tidak ditampilkan pada tahap ini."
   ]
  },
  {
   "cell_type": "code",
   "execution_count": 17,
   "metadata": {},
   "outputs": [
    {
     "name": "stdout",
     "output_type": "stream",
     "text": [
      "                                         processed_text  \\\n",
      "1915  ['padahal', 'benar', 'maxim', 'tu', 'apk', 'yg...   \n",
      "2802  ['baru', 'hapus', 'aplikasi', 'karna', 'ulang'...   \n",
      "3937  ['kalo', 'malam', 'tarif', 'ubah', 'mahal', 'r...   \n",
      "4747  ['alami', 'kendala', 'login', 'pihak', 'maxim'...   \n",
      "4469  ['sangat', 'kecewa', 'dgn', 'layan', 'kemudi',...   \n",
      "346   ['eh', 'buset', 'baik', 'masalah', 'pilih', 'm...   \n",
      "1147  ['beli', 'antar', 'kata', 'bapak', 'kau', 'lay...   \n",
      "4366  ['maxim', 'sekarang', 'jadi', 'jelek', 'order'...   \n",
      "3023  ['ga', 'pake', 'maxim', 'dapet', 'beberapa', '...   \n",
      "1413  ['mau', 'login', 'aja', 'gk', 'masuk', 'krna',...   \n",
      "4845  ['baik', 'dev', 'aplikasi', 'nya', 'fc', 'pada...   \n",
      "\n",
      "                                        translated_text vader_sentiment  \n",
      "1915  ['even though', 'right', 'Maxim', 'tu', 'apk',...         negatif  \n",
      "2802  ['new', 'delete', 'application', 'Karna', 'rep...         negatif  \n",
      "3937  ['If', 'Night', 'Rates', 'Change', 'Expensive'...         positif  \n",
      "4747  ['natural', 'obstacle', 'login', 'party', 'max...         positif  \n",
      "4469  ['very', 'disappointed', 'with' ',' Layan ',' ...         negatif  \n",
      "346   ['eh', 'buset', 'good', 'problem', 'select', '...         positif  \n",
      "1147  ['Buy', 'Delive', 'said', 'Father', 'You', 'La...         positif  \n",
      "4366  ['Maxim', 'Now', 'So', 'Ugly', 'Order', 'Same'...         positif  \n",
      "3023  ['no', 'use', 'maxim', 'get', 'some', 'times',...         negatif  \n",
      "1413  ['want', 'login', 'just', 'no', 'enter', 'beca...         positif  \n",
      "4845  ['good', 'dev', 'application', '', 'fc', 'even...         negatif  \n"
     ]
    }
   ],
   "source": [
    "# Kode untuk sampel, menguji waktu running\n",
    "# Misalkan df adalah DataFrame yang sudah ada dengan kolom \"processed_text\"\n",
    "df = pd.read_csv('filtered_data.csv') # Contoh membaca file yang sudah difilter sebelumnya\n",
    "\n",
    "# Step 2: Ambil hanya n baris data untuk uji cepat\n",
    "df_sample = df.sample(n=100, random_state=42)  # Bisa juga gunakan .iloc[:1000] untuk mengambil baris pertama\n",
    "\n",
    "# Step 3: Menerjemahkan kolom \"processed_text\" ke bahasa Inggris\n",
    "df_sample['translated_text'] = df_sample['processed_text'].apply(translate_text)\n",
    "\n",
    "# Step 4: Pelabelan otomatis menggunakan VADER pada teks yang sudah diterjemahkan\n",
    "df_sample['vader_sentiment'] = df_sample['translated_text'].apply(vader_sentiment)\n",
    "\n",
    "# Step 5: Hapus baris dengan nilai None di vader_sentiment\n",
    "df_sample = df_sample.dropna(subset=['vader_sentiment'])\n",
    "\n",
    "# Tampilkan hasil setelah pelabelan\n",
    "print(df_sample[['processed_text', 'translated_text', 'vader_sentiment']])\n",
    "\n",
    "# Simpan hasil pelabelan ke file CSV baru (untuk data uji coba ini)\n",
    "df_sample.to_csv('vader_labeled_sample.csv', index=False)\n",
    "# Waktu running: 59.6 s ~1 m (100 baris)\n",
    "# Waktu running: 9m 19.1s ~10 m (1000 baris)\n",
    "# Estimasi waktu running untuk dataset full: >100m"
   ]
  },
  {
   "cell_type": "code",
   "execution_count": 18,
   "metadata": {},
   "outputs": [
    {
     "name": "stdout",
     "output_type": "stream",
     "text": [
      "Error in translation: The read operation timed out\n",
      "                                         processed_text  \\\n",
      "0         ['ongkos', 'manusia', 'manusia', 'drivernya']   \n",
      "1                                              ['baik']   \n",
      "2                                       ['terimakasih']   \n",
      "3                        ['aplikasi', 'susah', 'pakai']   \n",
      "4     ['lah', 'management', 'pihak', 'maxim', 'baik'...   \n",
      "...                                                 ...   \n",
      "9704                           ['pelayananya', 'goood']   \n",
      "9705                                         ['mantap']   \n",
      "9706                                 ['sangat', 'baik']   \n",
      "9707                                         ['nyaman']   \n",
      "9708  ['order', 'penuh', 'roy', 'delmax', 'vin', 'h'...   \n",
      "\n",
      "                                        translated_text vader_sentiment  \n",
      "0                  ['cost', 'human', 'human', 'driver']            None  \n",
      "1                                              ['Good']            None  \n",
      "2                                         ['Thank You']            None  \n",
      "3                   ['application', 'difficult', 'use']            None  \n",
      "4     ['lah', 'management', 'party', 'maxim', 'good'...         negatif  \n",
      "...                                                 ...             ...  \n",
      "9704                                ['service', 'good']            None  \n",
      "9705                                      ['Excellent']            None  \n",
      "9706                                      ['Very good']            None  \n",
      "9707                                    ['comfortable']            None  \n",
      "9708  ['Order', 'Full', 'Roy', 'Delmax', 'Vin', 'H',...         positif  \n",
      "\n",
      "[9709 rows x 3 columns]\n"
     ]
    }
   ],
   "source": [
    "# Kode untuk dataset full\n",
    "# Misalkan df adalah DataFrame yang sudah ada dengan kolom \"processed_text\"\n",
    "df = pd.read_csv('filtered_data.csv')  # Contoh membaca file yang sudah difilter sebelumnya\n",
    "\n",
    "# Step 1: Menerjemahkan kolom \"processed_text\" ke bahasa Inggris\n",
    "df['translated_text'] = df['processed_text'].apply(translate_text)\n",
    "\n",
    "# Step 2: Pelabelan otomatis menggunakan VADER pada teks yang sudah diterjemahkan\n",
    "df['vader_sentiment'] = df['translated_text'].apply(vader_sentiment)\n",
    "\n",
    "# Tampilkan hasil setelah pelabelan\n",
    "print(df[['processed_text', 'translated_text', 'vader_sentiment']])\n",
    "\n",
    "# Simpan hasil pelabelan ke file CSV baru\n",
    "df.to_csv('vader_labeled_data.csv', index=False)\n",
    "# Waktu running: 89m 19.9s (4868 baris)"
   ]
  },
  {
   "attachments": {},
   "cell_type": "markdown",
   "metadata": {},
   "source": [
    "Pada sel ini, dilakukan konversi format pada data di kolom translated_text dari yang sebelumnya menyerupai list menjadi string biasa tanpa koma pemisah. Adapun masalah pada tahap ini yaitu:\n",
    "- Tahap ini harusnya tidak dilakukan setelah dilakukan pelabelan seperti pada sel sebelumnya. Sebaiknya konversi datatype ini dilakukan sebelum atau bersamaan dengan pelabelan. Sehingga, kode tahap ini perlu disesuaikan dengan sel sebelumnya.\n",
    "\n",
    "Terdapat dua opsi dalam pelabelan data ini berdasarkan pengklasifikasian ulasan menggunakan nilai compound, seperti pada tahap sebelumnya."
   ]
  },
  {
   "cell_type": "code",
   "execution_count": 26,
   "metadata": {},
   "outputs": [
    {
     "name": "stdout",
     "output_type": "stream",
     "text": [
      "                                      processed_text  \\\n",
      "1                                           ['baik']   \n",
      "2                                    ['terimakasih']   \n",
      "3                     ['aplikasi', 'susah', 'pakai']   \n",
      "4  ['lah', 'management', 'pihak', 'maxim', 'baik'...   \n",
      "5  ['maxim', 'mau', 'kapan', 'begini', 'terus', '...   \n",
      "\n",
      "                                     translated_text vader_sentiment  compound  \n",
      "1                                           ['Good']         positif    0.4404  \n",
      "2                                      ['Thank You']         positif    0.3612  \n",
      "3                ['application', 'difficult', 'use']         negatif   -0.3612  \n",
      "4  ['lah', 'management', 'party', 'maxim', 'good'...         positif    0.9482  \n",
      "5  ['Maxim', 'Want', 'When', 'Like', 'Continue', ...         negatif   -0.2263  \n"
     ]
    }
   ],
   "source": [
    "# Konversi datatype kolom \"translated_text\" menjadi string sebelum pelabelan data\n",
    "# Step 1: Baca file CSV yang sudah ada\n",
    "df = pd.read_csv('vader_labeled_data.csv')\n",
    "\n",
    "# Step 2: Bersihkan karakter yang tidak diperlukan (kurung siku, tanda kutip, koma) langsung di \"translated_text\"\n",
    "df['converted_text'] = df['translated_text'].str.replace(r\"[\\[\\]',]\", '', regex=True)\n",
    "\n",
    "# Step 3: Lakukan pelabelan sentimen dengan VADER pada kolom 'converted_text'\n",
    "analyzer = SentimentIntensityAnalyzer()\n",
    "\n",
    "# Fungsi untuk pelabelan sentimen otomatis menggunakan skor compound VADER\n",
    "def vader_sentiment(text):\n",
    "    scores = analyzer.polarity_scores(text)\n",
    "    # Tentukan label sentimen berdasarkan skor compound\n",
    "    if scores['compound'] > 0.05:\n",
    "        sentiment = 'positif'\n",
    "    elif scores['compound'] < -0.05:\n",
    "        sentiment = 'negatif'\n",
    "    else:\n",
    "        sentiment = None  # Tidak digunakan jika netral\n",
    "    \n",
    "    return sentiment, scores['compound']\n",
    "\n",
    "# Terapkan pelabelan dan simpan skor compound VADER di kolom terpisah\n",
    "df['vader_sentiment'], df['compound'] = zip(*df['converted_text'].apply(vader_sentiment))\n",
    "\n",
    "# Step 4: Hapus ulasan netral (dengan sentimen None)\n",
    "df = df.dropna(subset=['vader_sentiment'])\n",
    "\n",
    "# Step 5: Simpan hasil pelabelan dan skor compound ke file CSV baru\n",
    "df[['processed_text', 'translated_text', 'converted_text', 'vader_sentiment', 'compound']].to_csv('vader_labeled_with_compound.csv', index=False)\n",
    "\n",
    "# Tampilkan beberapa hasil\n",
    "print(df[['processed_text', 'translated_text', 'vader_sentiment', 'compound']].head())"
   ]
  },
  {
   "attachments": {},
   "cell_type": "markdown",
   "metadata": {},
   "source": [
    "<a id='section4'></a>\n",
    "# **4. Pembagian Data**\n",
    "Pada tahap pembagian data, data akan dibagi menjadi data latih, data validasi, dan data uji dengan proporsi 60:20:20. Pada data latih akan dilatih model yang akan digunakan, pada data validasi akan dievaluasi performa model selama pelatihan untuk memantau overfitting dan menyesuaikan hyperparameter, dan kemudian model yang telah dilatih akan digunakan pada data uji untuk melakukan analisis sentimen dan mengukur performa akhir model pada data baru."
   ]
  },
  {
   "cell_type": "code",
   "execution_count": 3,
   "metadata": {},
   "outputs": [
    {
     "name": "stdout",
     "output_type": "stream",
     "text": [
      "Jumlah data latihan: 4709\n",
      "Jumlah data validasi: 1570\n",
      "Jumlah data uji: 1569\n"
     ]
    }
   ],
   "source": [
    "# Fungsi untuk mengubah sentimen menjadi angka (dengan data validasi)\n",
    "def sentiment_to_float(label):\n",
    "    if label == 'positif':\n",
    "        return 1.0\n",
    "    elif label == 'negatif':\n",
    "        return 0.0\n",
    "\n",
    "# Step 1: Baca CSV dan hanya pilih kolom yang dibutuhkan (processed_text dan vader_sentiment)\n",
    "df = pd.read_csv(\"vader_labeled_with_compound.csv\", usecols=['processed_text', 'vader_sentiment'])\n",
    "\n",
    "# Simpan CSV baru yang hanya berisi kolom yang dibutuhkan\n",
    "df.to_csv('filtered_vader_labeled.csv', index=False)\n",
    "\n",
    "# Step 2: Mendefinisikan Field untuk processed_text dan vader_sentiment\n",
    "TEXT = data.Field(tokenize=lambda x: eval(x), sequential=True, lower=True, include_lengths=True)\n",
    "LABEL = data.LabelField(dtype=torch.float, preprocessing=data.Pipeline(sentiment_to_float))\n",
    "\n",
    "# Step 3: Memetakan data ke fields sesuai dengan CSV yang sudah difilter\n",
    "fields = [('processed_text', TEXT), ('vader_sentiment', LABEL)]\n",
    "\n",
    "# Step 4: Load data dari CSV yang sudah difilter\n",
    "dataset = data.TabularDataset(\n",
    "    path=\"filtered_vader_labeled.csv\",  # File CSV hasil filtering dengan hanya dua kolom\n",
    "    format=\"csv\",\n",
    "    fields=fields,\n",
    "    skip_header=True  # Lewati header\n",
    ")\n",
    "\n",
    "# Step 5: Bagi data menjadi dataset train, validation, dan test (60% train, 20% valid, 20% test)\n",
    "# split_ratio untuk valid data adalah nilai yang terakhir di list, bukan nilai kedua\n",
    "train_data, test_data, valid_data = dataset.split(split_ratio=[0.6, 0.2, 0.2])\n",
    "\n",
    "# Step 6: Print jumlah sampel dalam setiap dataset\n",
    "print(f\"Jumlah data latihan: {len(train_data)}\")\n",
    "print(f\"Jumlah data validasi: {len(valid_data)}\")\n",
    "print(f\"Jumlah data uji: {len(test_data)}\")"
   ]
  },
  {
   "attachments": {},
   "cell_type": "markdown",
   "metadata": {},
   "source": [
    "Kode dibawah berfungsi untuk menyimpan data yang sudah dibagi ke dalam file nya masing-masing. Adapun pembagian data dengan metode split dilakukan secara acak dan bukan berdasarkan indeks."
   ]
  },
  {
   "cell_type": "code",
   "execution_count": 4,
   "metadata": {},
   "outputs": [
    {
     "name": "stdout",
     "output_type": "stream",
     "text": [
      "Data disimpan ke train_data.csv\n",
      "Data disimpan ke valid_data.csv\n",
      "Data disimpan ke test_data.csv\n"
     ]
    }
   ],
   "source": [
    "# Fungsi untuk menyimpan dataset ke dalam file CSV\n",
    "def save_dataset_to_csv(dataset, filename):\n",
    "    \"\"\"\n",
    "    Menyimpan seluruh dataset ke file CSV.\n",
    "\n",
    "    dataset - dataset yang ingin disimpan\n",
    "    filename - nama file CSV\n",
    "    \"\"\"\n",
    "    # Ekstraksi data menjadi dictionary\n",
    "    data = {\n",
    "        'processed_text': [\" \".join(vars(example)['processed_text']) for example in dataset.examples],\n",
    "        'vader_sentiment': [vars(example)['vader_sentiment'] for example in dataset.examples]\n",
    "    }\n",
    "    # Konversi menjadi DataFrame\n",
    "    df = pd.DataFrame(data)\n",
    "    # Simpan ke file CSV\n",
    "    df.to_csv(filename, index=False)\n",
    "    print(f\"Data disimpan ke {filename}\")\n",
    "\n",
    "# Menyimpan masing-masing subset ke file CSV\n",
    "save_dataset_to_csv(train_data, 'train_data.csv')\n",
    "save_dataset_to_csv(valid_data, 'valid_data.csv')\n",
    "save_dataset_to_csv(test_data, 'test_data.csv')"
   ]
  },
  {
   "cell_type": "code",
   "execution_count": 5,
   "metadata": {},
   "outputs": [
    {
     "name": "stdout",
     "output_type": "stream",
     "text": [
      "{'processed_text': ['dukung', 'ibu', 'bawa', 'kerupuk', 'palak', 'driver', 'arogan'], 'vader_sentiment': 1.0}\n"
     ]
    }
   ],
   "source": [
    "# Memanggil contoh dari data training\n",
    "print(vars(train_data.examples[0]))"
   ]
  },
  {
   "attachments": {},
   "cell_type": "markdown",
   "metadata": {},
   "source": [
    "<a id='section5'></a>\n",
    "# **5. Ekstraksi Fitur fastText**\n",
    "Pada tahap ekstraksi fitur fastText, akan dibangun kosakata untuk data latih menggunakan model word embedding fastText. Setiap token dari data latih akan direpresentasikan dalam bentuk vektor. Selain itu, akan dilakukan juga padding pada data supaya setiap baris memiliki panjang yang sama untuk kemudian diproses dalam batch."
   ]
  },
  {
   "attachments": {},
   "cell_type": "markdown",
   "metadata": {},
   "source": [
    "### **Membangun Kosakata (Vocabulary)**\n",
    "Membangun kosakata untuk dataset training menggunakan embedding fastText yang telah dilatih sebelumnya (*pre-trained*). Word vector yang digunakan berdimensi 300."
   ]
  },
  {
   "cell_type": "code",
   "execution_count": 6,
   "metadata": {},
   "outputs": [
    {
     "name": "stdout",
     "output_type": "stream",
     "text": [
      "Kosakata dan frekuensi berhasil disimpan ke 'vocab_frequencies.csv'\n",
      "Token yang paling sering muncul:\n",
      "[('driver', 1178), ('nya', 987), ('baik', 948), ('maxim', 885), ('aplikasi', 729), ('sangat', 589), ('ramah', 551), ('yg', 540), ('gak', 479), ('order', 459)]\n"
     ]
    }
   ],
   "source": [
    "# Membangun kosakata fastText (compress_fasttext)\n",
    "# Step 1: Tentukan ukuran maksimal kosakata\n",
    "MAX_VOCAB_SIZE = 25000\n",
    "\n",
    "# Step 2: Muat model fastText yang telah dikompresi\n",
    "ft_compressed = compress_fasttext.models.CompressedFastTextKeyedVectors.load('fasttext-id-mini')\n",
    "\n",
    "# Step 3: Buat kosakata berdasarkan data training\n",
    "TEXT.build_vocab(train_data, max_size=MAX_VOCAB_SIZE)\n",
    "\n",
    "# Step 4: Buat tensor embedding untuk setiap kata di dalam kosakata\n",
    "embedding_matrix = torch.zeros((len(TEXT.vocab), ft_compressed.vector_size))  # [vocab_size, embedding_dim]\n",
    "\n",
    "for word, idx in TEXT.vocab.stoi.items():  # Iterasi setiap kata dalam kosakata\n",
    "    if word in ft_compressed.key_to_index:  # Jika kata ada dalam model fastText\n",
    "        embedding_matrix[idx] = torch.tensor(ft_compressed[word])  # Simpan vektor embedding\n",
    "\n",
    "# Step 5: Simpan embedding matrix ke TEXT.vocab\n",
    "TEXT.vocab.set_vectors(stoi=TEXT.vocab.stoi, vectors=embedding_matrix, dim=ft_compressed.vector_size)\n",
    "\n",
    "# Step 6: Membangun kosakata untuk label (LABEL)\n",
    "LABEL.build_vocab(train_data)\n",
    "\n",
    "# Step 7: Simpan token dan frekuensi ke file CSV\n",
    "vocab_data = [(token, freq) for token, freq in TEXT.vocab.freqs.items()]\n",
    "\n",
    "# Konversi ke DataFrame\n",
    "vocab_df = pd.DataFrame(vocab_data, columns=['Token', 'Frequency'])\n",
    "\n",
    "# Simpan ke file CSV\n",
    "vocab_df.to_csv('vocab_frequencies.csv', index=False)\n",
    "\n",
    "print(\"Kosakata dan frekuensi berhasil disimpan ke 'vocab_frequencies.csv'\")\n",
    "\n",
    "# Step 8: Tampilkan 10 token yang paling sering muncul\n",
    "print(\"Token yang paling sering muncul:\")\n",
    "print(TEXT.vocab.freqs.most_common(10))"
   ]
  },
  {
   "attachments": {},
   "cell_type": "markdown",
   "metadata": {},
   "source": [
    "### **Iterator**\n",
    "BucketIterator akan mengelompokkan ulasan dengan panjang yang sama untuk meminimalkan padding di setiap batch. Padding adalah penambahan nilai-nilai kosong (misalnya token pad) pada contoh-contoh yang lebih pendek agar memiliki panjang yang sama dengan contoh terpanjang dalam batch. \n",
    "\n",
    "Jika panjang teks berbeda-beda, model akan kesulitan melakukan komputasi dalam batch (karena tensor harus memiliki ukuran tetap). Padding juga memungkinkan model untuk memproses beberapa sampel secara paralel, meningkatkan kecepatan pelatihan. "
   ]
  },
  {
   "cell_type": "code",
   "execution_count": 7,
   "metadata": {},
   "outputs": [],
   "source": [
    "# Menggunakan data validasi\n",
    "# Tentukan ukuran batch\n",
    "BATCH_SIZE = 64\n",
    "\n",
    "# Gunakan BucketIterator untuk membuat batch dari data training, validasi, dan testing\n",
    "train_iterator, valid_iterator, test_iterator = data.BucketIterator.splits(\n",
    "    (train_data, valid_data, test_data),        # Data yang akan dibagi menjadi batch\n",
    "    batch_size = BATCH_SIZE,                    # Ukuran batch\n",
    "    device = torch.device('cpu'),               # Ganti dengan 'cuda' jika menggunakan GPU\n",
    "    sort_key = lambda x: len(x.processed_text), # Urutkan berdasarkan panjang teks\n",
    "    sort_within_batch = True                    # Urutkan teks di dalam batch agar padding minimal\n",
    ")"
   ]
  },
  {
   "attachments": {},
   "cell_type": "markdown",
   "metadata": {
    "colab_type": "text",
    "id": "braesWjckkJu"
   },
   "source": [
    "<a id='section6'></a>\n",
    "# **6. Pembentukan Model BiLSTM**\n",
    "Pada tahap pembentukan model BiLSTM, akan didefinisikan model BiLSTM dan berbagai hyperparameternya. Setelah itu, akan diganti bobot awal layer embedding dengan embedding yang sudah dilatih sebelumnya pada tahap pembentukan model word embedding fastText."
   ]
  },
  {
   "cell_type": "code",
   "execution_count": 8,
   "metadata": {},
   "outputs": [],
   "source": [
    "class LSTM(nn.Module):\n",
    "    def __init__(self, vocab_size, embedding_dim, hidden_dim, output_dim, n_layers, \n",
    "                 bidirectional, dropout, pad_idx):\n",
    "        \"\"\"\n",
    "        Menginisialisasi layer-layer pada model.\n",
    "\n",
    "        vocab_size - ukuran kosakata\n",
    "        embedding_dim - dimensi vektor kata yang dihasilkan embedding\n",
    "        hidden_dim - ukuran hidden state pada LSTM\n",
    "        output_dim - jumlah kelas keluaran\n",
    "        n_layers - jumlah lapisan pada RNN berlapis (multi-layer RNN)\n",
    "        bidirectional - menentukan apakah LSTM akan dua arah (forward dan backward)\n",
    "        dropout - probabilitas dropout\n",
    "        pad_idx - indeks token padding (agar embedding tidak belajar dari token <pad>)\n",
    "        \"\"\"\n",
    "        \n",
    "        super().__init__()\n",
    "\n",
    "        # 1. Layer Embedding\n",
    "        # Mengubah indeks kata menjadi vektor embedding, dengan padding_idx untuk token <pad>\n",
    "        # agar embedding tidak belajar dari token ini (tidak relevan untuk prediksi sentimen)\n",
    "        self.embedding = nn.Embedding(vocab_size, embedding_dim, padding_idx=pad_idx)\n",
    "\n",
    "        # 2. Layer LSTM\n",
    "        # Mengembalikan output dan tuple yang terdiri dari hidden state dan cell state akhir\n",
    "        self.encoder = nn.LSTM(embedding_dim,               # Ukuran input adalah embedding_dim\n",
    "                               hidden_dim,                  # Ukuran hidden state\n",
    "                               num_layers=n_layers,         # Jumlah lapisan LSTM\n",
    "                               bidirectional=bidirectional, # Menentukan arah LSTM\n",
    "                               dropout=dropout)             # Dropout antar lapisan\n",
    "\n",
    "        # 3. Fully-connected Layer\n",
    "        # Mengonversi hidden state akhir dari LSTM menjadi output prediksi\n",
    "        # Jika LSTM dua arah, ukuran input nn.Linear adalah 2 * hidden_dim\n",
    "        self.predictor = nn.Linear(hidden_dim * 2, output_dim)\n",
    "\n",
    "        # Layer dropout untuk regularisasi, mencegah overfitting\n",
    "        self.dropout = nn.Dropout(dropout)\n",
    "      \n",
    "    def forward(self, text, text_lengths):\n",
    "        \"\"\"\n",
    "        Metode forward dipanggil saat data diumpankan ke model.\n",
    "\n",
    "        text - [panjang tweet, ukuran batch]\n",
    "        text_lengths - panjang dari setiap tweet\n",
    "        \"\"\"\n",
    "\n",
    "        # Menghasilkan embedding dari input text, dengan dropout untuk regularisasi\n",
    "        # embedded = [panjang kalimat, ukuran batch, dimensi embedding]\n",
    "        embedded = self.dropout(self.embedding(text))    \n",
    "\n",
    "        # Menggunakan pack_padded_sequence untuk melewati token padding dalam RNN, mempercepat komputasi\n",
    "        packed_embedded = nn.utils.rnn.pack_padded_sequence(embedded, text_lengths)\n",
    "\n",
    "        # LSTM menghasilkan packed_output, dan tuple (hidden state terakhir, cell state terakhir)\n",
    "        packed_output, (hidden, cell) = self.encoder(packed_embedded)\n",
    "\n",
    "        # Mengembalikan packed sequence menjadi tensor\n",
    "        output, output_lengths = nn.utils.rnn.pad_packed_sequence(packed_output)\n",
    "\n",
    "        # output = [panjang kalimat, ukuran batch, hidden_dim * arah]\n",
    "        # Output dari token padding adalah tensor nol\n",
    "        \n",
    "        # hidden = [jumlah lapisan * arah, ukuran batch, hidden_dim]\n",
    "        # cell = [jumlah lapisan * arah, ukuran batch, hidden_dim]\n",
    "        \n",
    "        # Mengambil hidden state dari lapisan terakhir untuk arah forward dan backward\n",
    "        # Menggabungkan hidden state forward dan backward, kemudian menerapkan dropout\n",
    "        hidden = self.dropout(torch.cat((hidden[-2,:,:], hidden[-1,:,:]), dim=1))\n",
    "\n",
    "        # hidden = [ukuran batch, hidden_dim * arah]\n",
    "\n",
    "        # Menerapkan layer fully-connected untuk menghasilkan prediksi\n",
    "        return self.predictor(hidden)"
   ]
  },
  {
   "attachments": {},
   "cell_type": "markdown",
   "metadata": {
    "colab_type": "text",
    "id": "MAk1scwU_g3d"
   },
   "source": [
    "### **Membuat Model**\n",
    "Setelah mendefinisikan model dan hyperparameternya, selanjutnya kita menentukan nilai dari berbagai hyperparameter ini. Perlu mencari referensi lain untuk menentukan nilai dari hyperparameter ini atau jika ada metode untuk menentukan nilai yang optimal."
   ]
  },
  {
   "cell_type": "code",
   "execution_count": 9,
   "metadata": {
    "colab": {},
    "colab_type": "code",
    "id": "P6vpUuzkdCah"
   },
   "outputs": [],
   "source": [
    "# Konfigurasi hyperparameter\n",
    "# Jumlah total kata dalam kosakata (vocabulary) sebagai ukuran input\n",
    "INPUT_DIM = len(TEXT.vocab)  \n",
    "\n",
    "# Dimensi embedding harus sama dengan dimensi vektor fastText yang telah dilatih sebelumnya\n",
    "EMBEDDING_DIM = 300 # Ukuran embedding setiap kata (300 sesuai dengan fastText 300-dimensi)\n",
    "HIDDEN_DIM = 256    # Ukuran hidden state di dalam LSTM\n",
    "OUTPUT_DIM = 1      # Jumlah kelas keluaran; 1 untuk klasifikasi biner\n",
    "\n",
    "# Menggunakan 2 lapisan biLSTM untuk menangkap konteks yang lebih dalam\n",
    "N_LAYERS = 2            # Jumlah lapisan LSTM\n",
    "BIDIRECTIONAL = True    # Mengaktifkan LSTM dua arah (bidirectional) untuk memahami konteks dari dua arah\n",
    "\n",
    "# Probabilitas dropout untuk regularisasi, menghindari overfitting\n",
    "DROPOUT = 0.5  # Probabilitas dropout\n",
    "\n",
    "# Mendapatkan indeks token padding dari kosakata\n",
    "PAD_IDX = TEXT.vocab.stoi[TEXT.pad_token]  # Indeks token <pad> untuk mencegah model belajar dari padding\n",
    "\n",
    "# Membuat instance dari kelas LSTM dengan parameter yang sudah didefinisikan di atas\n",
    "model = LSTM(INPUT_DIM,\n",
    "            EMBEDDING_DIM,\n",
    "            HIDDEN_DIM,\n",
    "            OUTPUT_DIM,\n",
    "            N_LAYERS,\n",
    "            BIDIRECTIONAL,\n",
    "            DROPOUT,\n",
    "            PAD_IDX)"
   ]
  },
  {
   "cell_type": "markdown",
   "metadata": {},
   "source": [
    "Untuk dua sel di bawah masih dalam tahap percobaan, kedua sel dibawah digunakan untuk penentuan konfigurasi hyperparameter terbaik dari suatu rentang nilai yang diberikan. Mulai dari sel ini, sel-sel berikutnya yang dieksekusi juga mengikuti alur yang berbeda. Agar lebih jelas, sel kode Python yang mengikuti alur ini akan ditandai dengan **[EXP]**."
   ]
  },
  {
   "cell_type": "code",
   "execution_count": null,
   "metadata": {},
   "outputs": [],
   "source": [
    "# [EXP] Konfigurasi parameter\n",
    "# Yang bukan hyperparameter yang akan diubah ditaruh disini\n",
    "\n",
    "# Jumlah total kata dalam kosakata (vocabulary) sebagai ukuran input\n",
    "INPUT_DIM = len(TEXT.vocab)  \n",
    "\n",
    "# Dimensi embedding harus sama dengan dimensi vektor fastText yang telah dilatih sebelumnya\n",
    "EMBEDDING_DIM = 300 # Ukuran embedding setiap kata (300 sesuai dengan fastText 300-dimensi)\n",
    "OUTPUT_DIM = 1      # Jumlah kelas keluaran; 1 untuk klasifikasi biner\n",
    "\n",
    "# Menggunakan 2 lapisan biLSTM untuk menangkap konteks yang lebih dalam\n",
    "N_LAYERS = 2            # Jumlah lapisan LSTM\n",
    "BIDIRECTIONAL = True    # Mengaktifkan LSTM dua arah (bidirectional) untuk memahami konteks dari dua arah\n",
    "\n",
    "# Mendapatkan indeks token padding dari kosakata\n",
    "PAD_IDX = TEXT.vocab.stoi[TEXT.pad_token]  # Indeks token <pad> untuk mencegah model belajar dari padding"
   ]
  },
  {
   "cell_type": "code",
   "execution_count": null,
   "metadata": {},
   "outputs": [],
   "source": [
    "# [EXP] Konfigurasi hyperparameter\n",
    "# Hyperparameter tetap: optimizer dan criterion, cari artikel referensi\n",
    "\n",
    "# Ukuran hidden state di dalam LSTM\n",
    "HIDDEN_DIM = 256 # (aslinya dari section 6)\n",
    "\n",
    "# Ukuran batch\n",
    "BATCH_SIZE = 64 # (aslinya dari section 5 Iterator)\n",
    "\n",
    "# Probabilitas dropout untuk regularisasi, menghindari overfitting\n",
    "DROPOUT = 0.5 # (aslinya dari section 6)\n",
    "\n",
    "# Optimizer & Learning rate\n",
    "optimizer = optim.RMSprop(model.parameters(), lr=2e-2) # (aslinya dari section 7)\n",
    "\n",
    "# Loss function\n",
    "criterion = nn.BCEWithLogitsLoss() # (aslinya dari section 7)\n",
    "\n",
    "# Membuat instance dari kelas LSTM dengan parameter yang sudah didefinisikan sebelumnya\n",
    "model = LSTM(INPUT_DIM,\n",
    "            EMBEDDING_DIM,\n",
    "            HIDDEN_DIM,\n",
    "            OUTPUT_DIM,\n",
    "            N_LAYERS,\n",
    "            BIDIRECTIONAL,\n",
    "            DROPOUT,\n",
    "            PAD_IDX)"
   ]
  },
  {
   "attachments": {},
   "cell_type": "markdown",
   "metadata": {},
   "source": [
    "Word embedding memberikan representasi kata dalam bentuk vektor. Pada model, nilai embedding awal yang diinisialisasi secara acak kemudian akan diganti dengan vektor embedding fastText yang telah belajar dari dataset."
   ]
  },
  {
   "cell_type": "code",
   "execution_count": 10,
   "metadata": {
    "colab": {
     "base_uri": "https://localhost:8080/",
     "height": 35
    },
    "colab_type": "code",
    "id": "2xPD99rLd5Fk",
    "outputId": "fddfa17d-bd08-4bab-d0e2-ff4a11d2ee1c"
   },
   "outputs": [
    {
     "name": "stdout",
     "output_type": "stream",
     "text": [
      "torch.Size([5442, 300])\n"
     ]
    }
   ],
   "source": [
    "# Menyalin embedding kata yang sudah dilatih sebelumnya (misalnya, fastText) ke dalam layer embedding model\n",
    "pretrained_embeddings = TEXT.vocab.vectors\n",
    "\n",
    "# Mencetak ukuran tensor embedding untuk memastikan ukurannya sesuai [jumlah kata dalam kosakata, dimensi embedding]\n",
    "print(pretrained_embeddings.shape)"
   ]
  },
  {
   "cell_type": "code",
   "execution_count": 11,
   "metadata": {
    "colab": {
     "base_uri": "https://localhost:8080/",
     "height": 143
    },
    "colab_type": "code",
    "id": "We1MEJwZd9pp",
    "outputId": "a9e97fc7-d07c-4187-9cb1-97ec98e2639b"
   },
   "outputs": [
    {
     "data": {
      "text/plain": [
       "tensor([[ 0.0000,  0.0000,  0.0000,  ...,  0.0000,  0.0000,  0.0000],\n",
       "        [ 0.0000,  0.0000,  0.0000,  ...,  0.0000,  0.0000,  0.0000],\n",
       "        [ 0.0782,  0.0211, -0.0295,  ..., -0.0209,  0.0402,  0.0913],\n",
       "        ...,\n",
       "        [ 0.0000,  0.0000,  0.0000,  ...,  0.0000,  0.0000,  0.0000],\n",
       "        [ 0.0000,  0.0000,  0.0000,  ...,  0.0000,  0.0000,  0.0000],\n",
       "        [ 0.0000,  0.0000,  0.0000,  ...,  0.0000,  0.0000,  0.0000]])"
      ]
     },
     "execution_count": 11,
     "metadata": {},
     "output_type": "execute_result"
    }
   ],
   "source": [
    "# Mengganti bobot awal layer embedding dengan embedding yang sudah dilatih sebelumnya\n",
    "model.embedding.weight.data.copy_(pretrained_embeddings)"
   ]
  },
  {
   "cell_type": "code",
   "execution_count": 12,
   "metadata": {
    "colab": {
     "base_uri": "https://localhost:8080/",
     "height": 143
    },
    "colab_type": "code",
    "id": "p24pobL2eCqj",
    "outputId": "d48582e6-60c8-4147-c8d3-367d8093ffb1"
   },
   "outputs": [
    {
     "name": "stdout",
     "output_type": "stream",
     "text": [
      "Matriks embedding disimpan dalam 'embedding_matrix.csv'\n",
      "tensor([[ 0.0000,  0.0000,  0.0000,  ...,  0.0000,  0.0000,  0.0000],\n",
      "        [ 0.0000,  0.0000,  0.0000,  ...,  0.0000,  0.0000,  0.0000],\n",
      "        [ 0.0782,  0.0211, -0.0295,  ..., -0.0209,  0.0402,  0.0913],\n",
      "        ...,\n",
      "        [ 0.0000,  0.0000,  0.0000,  ...,  0.0000,  0.0000,  0.0000],\n",
      "        [ 0.0000,  0.0000,  0.0000,  ...,  0.0000,  0.0000,  0.0000],\n",
      "        [ 0.0000,  0.0000,  0.0000,  ...,  0.0000,  0.0000,  0.0000]])\n"
     ]
    }
   ],
   "source": [
    "# Inisialisasi token <unk> (kata yang tidak dikenal) dan <pad> menjadi nol\n",
    "# karena tidak relevan untuk analisis sentimen\n",
    "UNK_IDX = TEXT.vocab.stoi[TEXT.unk_token]  # Mendapatkan indeks token <unk>\n",
    "\n",
    "# Mengatur baris dalam matriks embedding untuk <unk> dan <pad> menjadi nol\n",
    "# karena vektor ini tidak memiliki makna khusus dalam konteks analisis sentimen\n",
    "model.embedding.weight.data[UNK_IDX] = torch.zeros(EMBEDDING_DIM)\n",
    "model.embedding.weight.data[PAD_IDX] = torch.zeros(EMBEDDING_DIM)\n",
    "\n",
    "# Mengonversi matriks embedding ke dalam DataFrame untuk disimpan ke CSV\n",
    "embedding_df = pd.DataFrame(\n",
    "    model.embedding.weight.data.cpu().numpy(),\n",
    "    columns=[f\"fitur_{i+1}\" for i in range(EMBEDDING_DIM)]\n",
    ")\n",
    "\n",
    "# Menambahkan kolom token untuk referensi\n",
    "embedding_df.insert(0, 'token', list(TEXT.vocab.stoi.keys()))\n",
    "\n",
    "# Menyimpan hasil ke dalam file CSV\n",
    "embedding_df.to_csv('embedding_matrix.csv', index=False)\n",
    "\n",
    "# Menampilkan matriks bobot embedding yang baru setelah inisialisasi\n",
    "print(\"Matriks embedding disimpan dalam 'embedding_matrix.csv'\")\n",
    "\n",
    "# Menampilkan matriks bobot embedding yang baru setelah inisialisasi\n",
    "print(model.embedding.weight.data)"
   ]
  },
  {
   "attachments": {},
   "cell_type": "markdown",
   "metadata": {
    "colab_type": "text",
    "id": "1FzS3q48u3bA"
   },
   "source": [
    "<a id='section7'></a>\n",
    "# **7. Pelatihan Model**\n",
    "Pada tahap pelatihan model, model BiLSTM yang telah dibangun akan dilatih pada data latih. Sebelum masuk proses pelatihan, perlu dipilih optimizer dan loss function yang akan digunakan. Accuracy dan loss pada setiap epoch yang akan dipetakan dalam sebuah grafik menjadi metrik untuk pertimbangan dan evaluasi apakah model yang dilatih sudah dianggap bagus atau belum."
   ]
  },
  {
   "cell_type": "code",
   "execution_count": 13,
   "metadata": {
    "colab": {},
    "colab_type": "code",
    "id": "mp-WpuhLk1np"
   },
   "outputs": [],
   "source": [
    "# Optimizer RMSprop digunakan untuk memperbarui bobot\n",
    "optimizer = optim.RMSprop(model.parameters(), lr=2e-2)\n",
    "\n",
    "# Loss function: binary cross entropy with logits\n",
    "# Fungsi ini membatasi prediksi ke nilai antara 0 dan 1 menggunakan fungsi logit\n",
    "# kemudian menggunakan skalar terikat tersebut untuk menghitung loss dengan binary cross entropy\n",
    "criterion = nn.BCEWithLogitsLoss()\n",
    "\n",
    "# Menggunakan CPU untuk pelatihan\n",
    "model = model.to(torch.device(\"cpu\"))\n",
    "criterion = criterion.to(torch.device(\"cpu\"))"
   ]
  },
  {
   "cell_type": "code",
   "execution_count": 14,
   "metadata": {
    "colab": {},
    "colab_type": "code",
    "id": "mkVIS45Tejg0"
   },
   "outputs": [],
   "source": [
    "# Fungsi pembantu (helper functions)\n",
    "\n",
    "def batch_accuracy(predictions, label):\n",
    "    \"\"\"\n",
    "    Mengembalikan akurasi per batch.\n",
    "\n",
    "    predictions - nilai prediksi dalam float\n",
    "    label - nilai target, 0 atau 1\n",
    "    \"\"\"\n",
    "\n",
    "    # Membulatkan prediksi ke bilangan bulat terdekat menggunakan fungsi sigmoid\n",
    "    # untuk menghasilkan prediksi probabilitas antara 0 dan 1\n",
    "    preds = torch.round(torch.sigmoid(predictions))\n",
    "    # Memeriksa apakah prediksi sama dengan label\n",
    "    correct = (preds == label).float()\n",
    "    # Menghitung rata-rata prediksi yang benar sebagai akurasi batch\n",
    "    accuracy = correct.sum() / len(correct)\n",
    "\n",
    "    return accuracy\n",
    "\n",
    "def timer(start_time, end_time):\n",
    "    \"\"\"\n",
    "    Mengembalikan waktu dalam satuan menit dan detik.\n",
    "    \"\"\"\n",
    "\n",
    "    # Menghitung waktu yang telah berlalu\n",
    "    time = end_time - start_time\n",
    "    # Menghitung jumlah menit\n",
    "    mins = int(time / 60)\n",
    "    # Menghitung sisa detik setelah menit\n",
    "    secs = int(time - (mins * 60))\n",
    "\n",
    "    return mins, secs\n"
   ]
  },
  {
   "cell_type": "code",
   "execution_count": null,
   "metadata": {
    "colab": {},
    "colab_type": "code",
    "id": "V_0IWDF_fQ-u"
   },
   "outputs": [],
   "source": [
    "def train(model, iterator, optimizer, criterion):\n",
    "    \"\"\"\n",
    "    Fungsi untuk menghitung loss dan akurasi selama pelatihan.\n",
    "\n",
    "    iterator - iterator untuk data latihan\n",
    "    \"\"\"\n",
    "    \n",
    "    # Menyimpan total loss selama pelatihan\n",
    "    training_loss = 0.0\n",
    "    # Menyimpan total akurasi selama pelatihan\n",
    "    training_acc = 0.0\n",
    "    \n",
    "    # Mengatur model ke mode pelatihan\n",
    "    model.train()\n",
    "    \n",
    "    # Untuk setiap batch di dalam iterator pelatihan\n",
    "    for batch in iterator:\n",
    "        \n",
    "        # 1. Mengatur gradien menjadi nol sebelum backward pass\n",
    "        optimizer.zero_grad()\n",
    "        \n",
    "        # batch.text adalah tuple (tensor, panjang dari sequence)\n",
    "        text, text_lengths = batch.processed_text\n",
    "        \n",
    "        # 2. Menghitung prediksi dari model\n",
    "        predictions = model(text, text_lengths).squeeze(1)\n",
    "        \n",
    "        # 3. Menghitung loss\n",
    "        loss = criterion(predictions, batch.vader_sentiment)\n",
    "        \n",
    "        # Menghitung akurasi per batch\n",
    "        accuracy = batch_accuracy(predictions, batch.vader_sentiment)\n",
    "        \n",
    "        # 4. Menggunakan loss untuk menghitung gradien\n",
    "        loss.backward()\n",
    "        \n",
    "        # 5. Menggunakan optimizer untuk memperbarui parameter model\n",
    "        optimizer.step()\n",
    "        \n",
    "        # Menambahkan nilai loss dan akurasi batch ke total akumulatif\n",
    "        training_loss += loss.item()\n",
    "        training_acc += accuracy.item()\n",
    "    \n",
    "    # Mengembalikan nilai loss dan akurasi rata-rata untuk setiap epoch\n",
    "    # len(iterator) = jumlah batch dalam iterator\n",
    "    return training_loss / len(iterator), training_acc / len(iterator)\n",
    "\n",
    "def evaluate(model, iterator, criterion):\n",
    "    \"\"\"\n",
    "    Fungsi untuk menghitung loss dan akurasi pada data validasi dan pengujian.\n",
    "\n",
    "    iterator - iterator untuk data validasi atau data uji\n",
    "    \"\"\"\n",
    "    \n",
    "    # Menyimpan total loss selama evaluasi\n",
    "    eval_loss = 0.0\n",
    "    # Menyimpan total akurasi selama evaluasi\n",
    "    eval_acc = 0\n",
    "    \n",
    "    # Mengatur model ke mode evaluasi\n",
    "    model.eval()\n",
    "    \n",
    "    # Jangan menghitung gradien\n",
    "    with torch.no_grad():\n",
    "    \n",
    "        # Untuk setiap batch di dalam iterator\n",
    "        for batch in iterator:\n",
    "\n",
    "            text, text_lengths = batch.processed_text\n",
    "            \n",
    "            # Menghitung prediksi dari model\n",
    "            predictions = model(text, text_lengths).squeeze(1)\n",
    "            \n",
    "            # Menghitung loss\n",
    "            loss = criterion(predictions, batch.vader_sentiment)\n",
    "            \n",
    "            # Menghitung akurasi per batch\n",
    "            accuracy = batch_accuracy(predictions, batch.vader_sentiment)\n",
    "\n",
    "            # Menambahkan nilai loss dan akurasi batch ke total akumulatif\n",
    "            eval_loss += loss.item()\n",
    "            eval_acc += accuracy.item()\n",
    "        \n",
    "    # Mengembalikan nilai loss dan akurasi rata-rata\n",
    "    return eval_loss / len(iterator), eval_acc / len(iterator)"
   ]
  },
  {
   "attachments": {},
   "cell_type": "markdown",
   "metadata": {
    "colab_type": "text",
    "id": "gsuG6zKbDk8t"
   },
   "source": [
    "### **Melatih Model**\n",
    "Setelah fungsi untuk melakukan pelatihan model telah didefinisikan, langkah selanjutnya adalah melatih model. Jumlah epoch ditentukan secara manual pada tahap ini. Setelah pelatihan model selesai, maka dari nilai accuracy dan loss dari sejumlah epoch selama pelatihan akan dipetakan, dan kemudian diinterpretasikan untuk mempertimbangkan dan mengevaluasi apakah model yang sudah dilatih sudah dianggap bagus atau belum."
   ]
  },
  {
   "cell_type": "code",
   "execution_count": 17,
   "metadata": {},
   "outputs": [
    {
     "name": "stdout",
     "output_type": "stream",
     "text": [
      "Epoch 1:\n",
      "\t Total Time: 1m 26s\n",
      "\t Train Loss 0.65 | Train Accuracy: 72.7%\n",
      "\t Validation Loss 0.43 | Validation Accuracy: 74.45%\n",
      "Epoch 2:\n",
      "\t Total Time: 1m 22s\n",
      "\t Train Loss 0.4 | Train Accuracy: 79.44%\n",
      "\t Validation Loss 0.37 | Validation Accuracy: 82.23%\n",
      "Epoch 3:\n",
      "\t Total Time: 1m 25s\n",
      "\t Train Loss 0.35 | Train Accuracy: 82.31%\n",
      "\t Validation Loss 0.33 | Validation Accuracy: 83.35%\n",
      "Epoch 4:\n",
      "\t Total Time: 1m 26s\n",
      "\t Train Loss 0.31 | Train Accuracy: 84.97%\n",
      "\t Validation Loss 0.33 | Validation Accuracy: 84.2%\n",
      "Epoch 5:\n",
      "\t Total Time: 1m 13s\n",
      "\t Train Loss 0.3 | Train Accuracy: 86.56%\n",
      "\t Validation Loss 0.33 | Validation Accuracy: 84.3%\n",
      "Epoch 6:\n",
      "\t Total Time: 1m 9s\n",
      "\t Train Loss 0.26 | Train Accuracy: 88.45%\n",
      "\t Validation Loss 0.32 | Validation Accuracy: 85.49%\n",
      "Epoch 7:\n",
      "\t Total Time: 1m 36s\n",
      "\t Train Loss 0.24 | Train Accuracy: 89.8%\n",
      "\t Validation Loss 0.33 | Validation Accuracy: 86.28%\n",
      "Epoch 8:\n",
      "\t Total Time: 1m 3s\n",
      "\t Train Loss 0.24 | Train Accuracy: 90.24%\n",
      "\t Validation Loss 0.32 | Validation Accuracy: 86.3%\n",
      "Epoch 9:\n",
      "\t Total Time: 1m 3s\n",
      "\t Train Loss 0.25 | Train Accuracy: 89.89%\n",
      "\t Validation Loss 0.33 | Validation Accuracy: 86.64%\n",
      "Epoch 10:\n",
      "\t Total Time: 1m 47s\n",
      "\t Train Loss 0.26 | Train Accuracy: 90.16%\n",
      "\t Validation Loss 0.4 | Validation Accuracy: 85.18%\n",
      "Hasil pelatihan disimpan ke 'training_logs.csv'\n"
     ]
    }
   ],
   "source": [
    "# MENGGUNAKAN DATA VALIDASI (training log disimpan dalam CSV)\n",
    "# Jumlah epoch untuk melatih model\n",
    "NUM_EPOCHS = 10\n",
    "\n",
    "# Inisialisasi nilai terendah untuk validasi loss\n",
    "best_valid_loss = float('inf')\n",
    "\n",
    "# List untuk menyimpan nilai loss dan accuracy pada setiap epoch\n",
    "train_losses, valid_losses = [], []\n",
    "train_accuracies, valid_accuracies = [], []\n",
    "\n",
    "# Membuka file CSV untuk menyimpan hasil pelatihan\n",
    "with open('training_logs.csv', mode='w', newline='', encoding='utf-8') as file:\n",
    "    fieldnames = ['Epoch', 'Train Loss', 'Train Accuracy (%)', 'Validation Loss', 'Validation Accuracy (%)', 'Time (mins)', 'Time (secs)']\n",
    "    writer = csv.DictWriter(file, fieldnames=fieldnames)\n",
    "    writer.writeheader()\n",
    "\n",
    "    # Loop untuk setiap epoch\n",
    "    for epoch in range(NUM_EPOCHS):\n",
    "        start_time = time.time()  # Catat waktu mulai epoch\n",
    "        \n",
    "        # Menghitung loss dan akurasi pada data latihan\n",
    "        train_loss, train_acc = train(model, train_iterator, optimizer, criterion)\n",
    "        \n",
    "        # Menghitung loss dan akurasi pada data validasi\n",
    "        valid_loss, valid_acc = evaluate(model, valid_iterator, criterion)\n",
    "        \n",
    "        end_time = time.time()  # Catat waktu akhir epoch\n",
    "        \n",
    "        # Simpan nilai loss dan accuracy dari setiap epoch\n",
    "        train_losses.append(train_loss)\n",
    "        valid_losses.append(valid_loss)\n",
    "        train_accuracies.append(train_acc)\n",
    "        valid_accuracies.append(valid_acc)\n",
    "        \n",
    "        # Menghitung waktu total yang dihabiskan untuk setiap epoch\n",
    "        mins, secs = timer(start_time, end_time)\n",
    "        \n",
    "        # Mengecek apakah validasi loss saat ini lebih baik dari sebelumnya\n",
    "        if valid_loss < best_valid_loss:\n",
    "            best_valid_loss = valid_loss\n",
    "            torch.save(model.state_dict(), 'model-small.pt')\n",
    "        \n",
    "        # Menyimpan hasil epoch ke file CSV\n",
    "        writer.writerow({\n",
    "            'Epoch': epoch + 1,\n",
    "            'Train Loss': round(train_loss, 2),\n",
    "            'Train Accuracy (%)': round(train_acc * 100, 2),\n",
    "            'Validation Loss': round(valid_loss, 2),\n",
    "            'Validation Accuracy (%)': round(valid_acc * 100, 2),\n",
    "            'Time (mins)': mins,\n",
    "            'Time (secs)': secs\n",
    "        })\n",
    "        \n",
    "        # Menampilkan hasil dari setiap epoch\n",
    "        print(\"Epoch {}:\".format(epoch+1))\n",
    "        print(\"\\t Total Time: {}m {}s\".format(mins, secs))\n",
    "        print(\"\\t Train Loss {} | Train Accuracy: {}%\".format(round(train_loss, 2), round(train_acc * 100, 2)))\n",
    "        print(\"\\t Validation Loss {} | Validation Accuracy: {}%\".format(round(valid_loss, 2), round(valid_acc * 100, 2)))\n",
    "\n",
    "print(\"Hasil pelatihan disimpan ke 'training_logs.csv'\")"
   ]
  },
  {
   "cell_type": "code",
   "execution_count": 18,
   "metadata": {},
   "outputs": [
    {
     "data": {
      "image/png": "[encoded data removed]",
      "text/plain": [
       "<Figure size 1200x500 with 2 Axes>"
      ]
     },
     "metadata": {},
     "output_type": "display_data"
    }
   ],
   "source": [
    "# Plot loss dan accuracy setelah training selesai\n",
    "epochs = range(1, NUM_EPOCHS + 1)\n",
    "\n",
    "# Plot Training and Validation Loss\n",
    "plt.figure(figsize=(12, 5))\n",
    "plt.subplot(1, 2, 1)\n",
    "plt.plot(epochs, train_losses, label='Train Loss')\n",
    "plt.plot(epochs, valid_losses, label='Validation Loss')\n",
    "plt.xlabel('Epoch')\n",
    "plt.ylabel('Loss')\n",
    "plt.title('Training and Validation Loss')\n",
    "plt.legend()\n",
    "\n",
    "# Plot Training and Validation Accuracy\n",
    "plt.subplot(1, 2, 2)\n",
    "plt.plot(epochs, train_accuracies, label='Train Accuracy')\n",
    "plt.plot(epochs, valid_accuracies, label='Validation Accuracy')\n",
    "plt.xlabel('Epoch')\n",
    "plt.ylabel('Accuracy')\n",
    "plt.title('Training and Validation Accuracy')\n",
    "plt.legend()\n",
    "\n",
    "plt.tight_layout()\n",
    "plt.show()"
   ]
  },
  {
   "attachments": {},
   "cell_type": "markdown",
   "metadata": {},
   "source": [
    "*Interpretasi Setiap Bagian Output*\n",
    "\n",
    "    Epoch:\n",
    "    Setiap epoch merepresentasikan satu siklus penuh seluruh data latih yang diproses oleh model. Di sini, ada n epoch yang berarti model dilatih sebanyak n kali dengan seluruh dataset latih.\n",
    "\n",
    "    Total Time:\n",
    "    Menunjukkan total waktu yang diperlukan untuk menyelesaikan satu epoch. Misalnya, epoch 1 memakan waktu 1 menit.\n",
    "\n",
    "    Train Loss dan Validation Loss:\n",
    "    Train Loss: Merupakan nilai loss atau kerugian yang dihasilkan model pada data latih di setiap epoch. Nilai ini dihitung berdasarkan perbedaan antara prediksi model dengan label sebenarnya.\n",
    "    Validation Loss: Merupakan nilai loss atau kerugian yang dihasilkan model pada data validasi. Ini dihitung dengan cara yang sama seperti train loss, tetapi pada data yang tidak digunakan untuk melatih model.\n",
    "    Interpretasi:\n",
    "    Penurunan Train Loss:\n",
    "    Jika train loss menurun seiring epoch bertambah, model berhasil mempelajari pola-pola pada data latih.\n",
    "    Penurunan Validation Loss:\n",
    "    Penurunan pada validation loss menunjukkan bahwa model mempelajari pola yang juga berlaku pada data yang belum dilihat sebelumnya. Namun, jika validation loss justru meningkat setelah beberapa epoch, hal ini bisa menjadi indikasi bahwa model mulai overfitting, yaitu terlalu berfokus pada data latih dan kehilangan kemampuan untuk generalisasi pada data baru.\n",
    "\n",
    "    Train Accuracy dan Validation Accuracy:\n",
    "    Train Accuracy:\n",
    "    Akurasi model pada data latih, menunjukkan persentase prediksi model yang benar pada data latih.\n",
    "    Validation Accuracy:\n",
    "    Akurasi model pada data validasi, menunjukkan persentase prediksi model yang benar pada data validasi.\n",
    "    Interpretasi:\n",
    "    Akurasi pada Data Latih:\n",
    "    Akurasi yang meningkat menunjukkan bahwa model semakin baik dalam memprediksi data latih.\n",
    "    Akurasi pada Data Validasi:\n",
    "    Akurasi ini lebih penting karena menunjukkan seberapa baik model memprediksi data yang belum dilihat sebelumnya. Jika akurasi validasi menurun setelah beberapa epoch meskipun akurasi latih meningkat, ini mengindikasikan overfitting."
   ]
  },
  {
   "attachments": {},
   "cell_type": "markdown",
   "metadata": {
    "colab_type": "text",
    "id": "WRHo-gVszo9H"
   },
   "source": [
    "<a id='section8'></a>\n",
    "# **8. Klasifikasi Sentimen**\n",
    "Pada tahap klasifikasi sentimen, model BiLSTM yang telah dilatih sebelumnya kemudian akan diuji pada data uji. Data ini tidak terlibat sama sekali dalam proses pelatihan, jadi data ini baru bagi model dan berfungsi menguji performa penerapan model pada data ulasan. Model dengan validation loss terbaik pada tahap pelatihan yang akan digunakan, karena model ini dianggap memiliki kemampuan generalisasi yang paling baik."
   ]
  },
  {
   "cell_type": "code",
   "execution_count": 24,
   "metadata": {
    "colab": {
     "base_uri": "https://localhost:8080/",
     "height": 35
    },
    "colab_type": "code",
    "id": "n40NoCEniiL6",
    "outputId": "5bfdc497-c2de-4f0c-d3fe-b722422fd4ec"
   },
   "outputs": [
    {
     "name": "stdout",
     "output_type": "stream",
     "text": [
      "Test Loss: 0.31 | Test Acc: 85.97%\n"
     ]
    }
   ],
   "source": [
    "# Memanggil model dengan validation loss terbaik\n",
    "model.load_state_dict(torch.load('model-small.pt'))\n",
    "\n",
    "# Evaluasi loss dan accuracy uji/test (apakah perlu?)\n",
    "test_loss, test_acc = evaluate(model, test_iterator, criterion)\n",
    "print(\"Test Loss: {} | Test Acc: {}%\".format(round(test_loss, 2), round(test_acc*100, 2)))"
   ]
  },
  {
   "cell_type": "code",
   "execution_count": 25,
   "metadata": {
    "colab": {},
    "colab_type": "code",
    "id": "cEzb31Turmm_"
   },
   "outputs": [],
   "source": [
    "def predict(model, text, tokenized=True):\n",
    "    \"\"\"\n",
    "    Memprediksi sentimen dari sebuah ulasan.\n",
    "\n",
    "    text - string atau daftar token kata\n",
    "    tokenized - True jika text adalah daftar token, False jika memasukkan string\n",
    "    \"\"\"\n",
    "    \n",
    "    # Menentukan perangkat yang akan digunakan, apakah GPU atau CPU\n",
    "    device = torch.device('cuda' if torch.cuda.is_available() else 'cpu')\n",
    "\n",
    "    # Mengatur model ke mode evaluasi (tanpa menghitung gradien)\n",
    "    model.eval()\n",
    "\n",
    "    if tokenized == False:\n",
    "        # Jika input berupa string, lakukan tokenisasi menggunakan spacy\n",
    "        tokens = [token.text for token in nlp.tokenizer(text)]\n",
    "    else:\n",
    "        tokens = text  # Jika input sudah berupa token, gunakan langsung\n",
    "\n",
    "    # Mengonversi token ke indeks numerik dari kosakata model\n",
    "    indexed_tokens = [TEXT.vocab.stoi[t] for t in tokens]\n",
    "    # Mendapatkan panjang teks yang telah di-tokenisasi\n",
    "    length = [len(indexed_tokens)]\n",
    "    # Mengonversi indeks token menjadi tensor\n",
    "    tensor = torch.LongTensor(indexed_tokens).to(device)\n",
    "    # Menambah dimensi batch dengan unsqueeze\n",
    "    tensor = tensor.unsqueeze(1)\n",
    "    # Mengonversi panjang teks menjadi tensor\n",
    "    length_tensor = torch.LongTensor(length)\n",
    "    # Menghitung prediksi sentimen dengan mengonversi hasil model ke rentang antara 0 dan 1 menggunakan fungsi sigmoid\n",
    "    prediction = torch.sigmoid(model(tensor, length_tensor))\n",
    "\n",
    "    # Mengembalikan hasil prediksi sebagai nilai\n",
    "    return 1 - prediction.item()"
   ]
  },
  {
   "cell_type": "code",
   "execution_count": 26,
   "metadata": {
    "colab": {
     "base_uri": "https://localhost:8080/",
     "height": 71
    },
    "colab_type": "code",
    "id": "LNVfJSHooMus",
    "outputId": "9a7ccf8a-a352-4bf9-a025-1425d1e3761d"
   },
   "outputs": [
    {
     "name": "stdout",
     "output_type": "stream",
     "text": [
      "Ulasan: draiver prio maxim pusat ama untum order fiktif blokir nomor merekanagar order maxim sering nyantol dpt rating ngatif bodoh\n",
      "Prediksi Sentimen: 1.0\n",
      "Label Asli: 0.0\n"
     ]
    }
   ],
   "source": [
    "# Contoh prediksi sentimen dari satu ulasan dalam test set\n",
    "# Ubah \"processed_text\" dan \"vader_sentiment\" sesuai dengan nama field yang Anda gunakan\n",
    "print(\"Ulasan: {}\".format(TreebankWordDetokenizer().detokenize(test_data[0].processed_text)))\n",
    "\n",
    "print(\"Prediksi Sentimen: {}\".format(round(predict(model, test_data[0].processed_text), 0)))\n",
    "\n",
    "print(\"Label Asli: {}\".format(test_data[0].vader_sentiment))"
   ]
  },
  {
   "cell_type": "code",
   "execution_count": 27,
   "metadata": {
    "colab": {
     "base_uri": "https://localhost:8080/",
     "height": 359
    },
    "colab_type": "code",
    "id": "8GD0zC4Fugk-",
    "outputId": "6f14da85-f61e-401e-fc07-d33533ec7250"
   },
   "outputs": [
    {
     "name": "stdout",
     "output_type": "stream",
     "text": [
      "Prediksi sentimen telah disimpan ke 'hasil_prediksi.csv'\n",
      "                                              Ulasan  Prediksi Sentimen  \\\n",
      "0  draiver prio maxim pusat ama untum order fikti...           0.504958   \n",
      "1                              cepat layan nya bagus           0.999999   \n",
      "2                                             mantap           0.999963   \n",
      "3     apk aneh udh dicancel ttp aja gabisa maksa bgt           0.143965   \n",
      "4                                   lokasi ga update           0.123562   \n",
      "\n",
      "   Label Prediksi  Label Asli  \n",
      "0             1.0         0.0  \n",
      "1             1.0         1.0  \n",
      "2             1.0         1.0  \n",
      "3             0.0         0.0  \n",
      "4             0.0         0.0  \n"
     ]
    }
   ],
   "source": [
    "# Contoh prediksi sentimen dari seluruh ulasan dalam test set\n",
    "# List untuk menyimpan data prediksi\n",
    "d = []\n",
    "\n",
    "# Loop melalui seluruh ulasan dalam test set\n",
    "for idx in range(len(test_data)):\n",
    "\n",
    "    # Detokenisasi ulasan dari test set\n",
    "    ulasan = TreebankWordDetokenizer().detokenize(test_data[idx].processed_text)\n",
    "    \n",
    "    # Prediksi sentimen dari ulasan\n",
    "    prediksi = predict(model, test_data[idx].processed_text)\n",
    "    \n",
    "    # Membulatkan nilai prediksi menjadi label (0 atau 1)\n",
    "    label_prediksi = round(prediksi, 0)\n",
    "    \n",
    "    # Menyimpan hasil ulasan, prediksi, label prediksi, dan label asli ke dalam list\n",
    "    d.append({\n",
    "        'Ulasan': ulasan, \n",
    "        'Prediksi Sentimen': prediksi, \n",
    "        'Label Prediksi': label_prediksi,\n",
    "        'Label Asli': test_data[idx].vader_sentiment\n",
    "    })\n",
    "\n",
    "# Konversi list ke dataframe untuk tampilan yang lebih baik\n",
    "df_prediksi = pd.DataFrame(d)\n",
    "\n",
    "# Simpan hasil prediksi ke file CSV\n",
    "df_prediksi.to_csv('hasil_prediksi.csv', index=False)\n",
    "\n",
    "print(\"Prediksi sentimen telah disimpan ke 'hasil_prediksi.csv'\")\n",
    "\n",
    "# Tampilkan beberapa hasil sebagai contoh\n",
    "print(df_prediksi.head())"
   ]
  },
  {
   "attachments": {},
   "cell_type": "markdown",
   "metadata": {},
   "source": [
    "<a id='section9'></a>\n",
    "# **9. Evaluasi Model**\n",
    "Pada tahap evaluasi model, performa model BiLSTM pada data uji akan dievaluasi berdasarkan beberapa metrik, yaitu accuracy, precision, dan recall. Hasil prediksi juga akan disajikan dalam bentuk confusion matrix, dimana bisa dilihat secara jelas jumlah klasifikasi yang sesuai atau tidak sesuai label aslinya."
   ]
  },
  {
   "cell_type": "code",
   "execution_count": 52,
   "metadata": {},
   "outputs": [],
   "source": [
    "# Fungsi evaluasi model untuk klasifikasi dua kelas (positif dan negatif)\n",
    "def evaluate_model(model, iterator, criterion):\n",
    "                          \n",
    "    model.eval()\n",
    "    all_predictions = []\n",
    "    all_labels = []\n",
    "\n",
    "    with torch.no_grad():\n",
    "        for batch in iterator:\n",
    "            # Ambil teks dan panjang teks dari batch\n",
    "            text, text_lengths = batch.processed_text\n",
    "\n",
    "            # Dapatkan prediksi model\n",
    "            predictions = model(text, text_lengths).squeeze(1)\n",
    "            \n",
    "            # Konversi prediksi menjadi label (0 atau 1)\n",
    "            rounded_preds = torch.round(torch.sigmoid(predictions))\n",
    "            \n",
    "            # Tambahkan prediksi dan label asli ke list\n",
    "            all_predictions.extend(rounded_preds.cpu().numpy())\n",
    "            all_labels.extend(batch.vader_sentiment.cpu().numpy())\n",
    "\n",
    "    # Hitung metrik evaluasi untuk binary classification\n",
    "    report = classification_report(all_labels, all_predictions, target_names=['Positif', 'Negatif'], output_dict=True)\n",
    "    \n",
    "    # Ambil metrik untuk sentimen positif\n",
    "    accuracy = report['accuracy']\n",
    "    positive_precision = report['Positif']['precision']\n",
    "    positive_recall = report['Positif']['recall']\n",
    "    positive_f1 = report['Positif']['f1-score']\n",
    "    \n",
    "    # Tampilkan classification report lengkap\n",
    "    print(classification_report(all_labels, all_predictions, target_names=['Positif', 'Negatif']))\n",
    "\n",
    "    # Buat confusion matrix\n",
    "    cm = confusion_matrix(all_labels, all_predictions)\n",
    "    \n",
    "    # Visualisasi confusion matrix\n",
    "    plt.figure(figsize=(8, 6))\n",
    "    sns.heatmap(cm, annot=True, fmt=\"d\", cmap=\"Blues\", xticklabels=['Positif', 'Negatif'], yticklabels=['Positif', 'Negatif'])\n",
    "    plt.xlabel('Predicted Labels')\n",
    "    plt.ylabel('True Labels')\n",
    "    plt.title('Confusion Matrix')\n",
    "    plt.show()\n",
    "    \n",
    "    return accuracy, positive_precision, positive_recall, positive_f1, all_labels, all_predictions"
   ]
  },
  {
   "cell_type": "code",
   "execution_count": 54,
   "metadata": {},
   "outputs": [
    {
     "name": "stdout",
     "output_type": "stream",
     "text": [
      "              precision    recall  f1-score   support\n",
      "\n",
      "     Positif       0.95      0.85      0.89      1074\n",
      "     Negatif       0.73      0.90      0.80       495\n",
      "\n",
      "    accuracy                           0.86      1569\n",
      "   macro avg       0.84      0.87      0.85      1569\n",
      "weighted avg       0.88      0.86      0.87      1569\n",
      "\n"
     ]
    },
    {
     "data": {
      "image/png": "[encoded data removed]",
      "text/plain": [
       "<Figure size 800x600 with 2 Axes>"
      ]
     },
     "metadata": {},
     "output_type": "display_data"
    },
    {
     "name": "stdout",
     "output_type": "stream",
     "text": [
      "Accuracy: 0.86\n",
      "Precision: 0.95\n",
      "Recall: 0.85\n",
      "F1 Score: 0.89\n"
     ]
    }
   ],
   "source": [
    "# Hitung metrik evaluasi pada data test\n",
    "accuracy, precision, recall, f1, all_labels, all_predictions = evaluate_model(model, test_iterator, criterion)\n",
    "\n",
    "# Tampilkan hasil metrik untuk sentimen positif\n",
    "print(f\"Accuracy: {accuracy:.2f}\")\n",
    "print(f\"Precision: {precision:.2f}\")\n",
    "print(f\"Recall: {recall:.2f}\")\n",
    "print(f\"F1 Score: {f1:.2f}\")"
   ]
  },
  {
   "attachments": {},
   "cell_type": "markdown",
   "metadata": {},
   "source": [
    "<a id='Miscellania'></a>\n",
    "# **Miscellania**\n",
    "Semua konten setelah ini tidak termasuk bagian dari pembuatan model analisis sentimen. Sel-sel di bawah hanya berisi kode tidak terpakai, kode untuk mengecek atau menguji berbagai hal terkait kode utama, dan berbagai catatan pribadi."
   ]
  },
  {
   "cell_type": "markdown",
   "metadata": {},
   "source": [
    "Beberapa metode untuk memperkecil ukuran dari word vector fastText."
   ]
  },
  {
   "cell_type": "code",
   "execution_count": null,
   "metadata": {},
   "outputs": [],
   "source": [
    "# fastText (quantize)\n",
    "# Step 1: Load model fastText bahasa Indonesia yang telah diunduh (.bin)\n",
    "ft = fasttext.load_model(\"cc.id.300.bin\")  # Sesuaikan dengan path lokasi file\n",
    "\n",
    "# Step 2: Kuantisasi model untuk mengurangi ukuran tanpa mengubah dimensi embedding\n",
    "ft.quantize(input=\"cc.id.300.bin\", qnorm=True, retrain=True, cutoff=100000)\n",
    "\n",
    "# Step 3: Simpan model yang telah dikompresi\n",
    "ft.save_model(\"cc.id.300.quantized.bin\")\n",
    "\n",
    "print(\"Model fastText telah dikompresi dan disimpan sebagai 'cc.id.300.quantized.bin'\")"
   ]
  },
  {
   "cell_type": "code",
   "execution_count": null,
   "metadata": {},
   "outputs": [],
   "source": [
    "# fastText (reduce_model versi pendek)\n",
    "ft = fasttext.load_model(\"cc.id.300.bin\")\n",
    "\n",
    "# Kurangi dimensi dari 300 menjadi 100\n",
    "fasttext.util.reduce_model(ft, 100)\n",
    "\n",
    "# Simpan model yang lebih kecil\n",
    "ft.save_model(\"cc.id.100.bin\")\n",
    "\n",
    "print(\"Model fastText telah dikompresi ke dimensi 100 dan disimpan sebagai 'cc.id.100.bin'\")"
   ]
  },
  {
   "cell_type": "code",
   "execution_count": null,
   "metadata": {},
   "outputs": [],
   "source": [
    "# fastText (reduce_model)\n",
    "# Step 1: Load model fastText yang telah diunduh (gunakan file .bin)\n",
    "ft = fasttext.load_model(\"cc.id.300.bin\")  # Sesuaikan path lokasi file\n",
    "\n",
    "# Step 2: Kurangi dimensi dari 300 ke 100\n",
    "fasttext.util.reduce_model(ft, 100)\n",
    "\n",
    "# Step 3: Tentukan ukuran maksimal kosakata\n",
    "MAX_VOCAB_SIZE = 25000\n",
    "\n",
    "# Step 4: Bangun kosakata dari data training\n",
    "word_freqs = Counter(word for example in train_data.examples for word in example.processed_text)\n",
    "vocab = Vocab(word_freqs, max_size=MAX_VOCAB_SIZE)\n",
    "\n",
    "# Step 5: Buat tensor untuk menyimpan embedding yang telah diperkecil\n",
    "embedding_matrix = torch.zeros(len(vocab), 100)  # 100 dimensi setelah reduksi\n",
    "\n",
    "# Step 6: Masukkan vektor fastText ke dalam tensor embedding_matrix\n",
    "for idx, word in enumerate(vocab.itos):\n",
    "    embedding_matrix[idx] = torch.tensor(ft.get_word_vector(word))\n",
    "\n",
    "# Step 7: Set embedding ke dalam `TEXT.vocab.vectors`\n",
    "TEXT.vocab = vocab\n",
    "TEXT.vocab.vectors = embedding_matrix\n",
    "\n",
    "# Step 8: Bangun kosakata untuk label (LABEL) dari data training\n",
    "LABEL.build_vocab(train_data)\n",
    "\n",
    "# Step 9: Tampilkan token yang paling sering muncul di data training\n",
    "print(\"Token yang paling sering muncul:\")\n",
    "print(vocab.freqs.most_common(10))\n",
    "\n",
    "# Step 10: Pastikan ukuran embedding sudah berubah\n",
    "print(\"Dimensi vektor setelah reduksi:\", TEXT.vocab.vectors.shape)  # Harus [num_vocab, 100]"
   ]
  },
  {
   "cell_type": "markdown",
   "metadata": {},
   "source": [
    "Kode untuk membangun kosakata fastText dari data latih menggunakan model asli dari website resminya."
   ]
  },
  {
   "cell_type": "code",
   "execution_count": null,
   "metadata": {},
   "outputs": [],
   "source": [
    "# Membangun kosakata fastText\n",
    "# Step 1: Tentukan ukuran maksimal kosakata\n",
    "MAX_VOCAB_SIZE = 25000\n",
    "\n",
    "# Step 2: Muat embedding fastText bahasa Indonesia dari file yang sudah diunduh\n",
    "fasttext_vectors = Vectors(name='cc.id.300.vec', cache='.')  # Sesuaikan path lokasi penyimpanan file\n",
    "\n",
    "# Step 3: Membangun kosakata untuk teks (TEXT) dari data training\n",
    "TEXT.build_vocab(train_data, \n",
    "                 max_size=MAX_VOCAB_SIZE,\n",
    "                 vectors=fasttext_vectors,\n",
    "                 unk_init=torch.Tensor.normal_)  # Inisialisasi kata yang tidak ditemukan di embedding\n",
    "\n",
    "# Step 4: Membangun kosakata untuk label (LABEL) dari data training\n",
    "LABEL.build_vocab(train_data)\n",
    "\n",
    "# Step 5: Tampilkan token yang paling sering muncul di data training\n",
    "print(\"Token yang paling sering muncul:\")\n",
    "print(TEXT.vocab.freqs.most_common(10))"
   ]
  },
  {
   "cell_type": "markdown",
   "metadata": {},
   "source": [
    "Kode untuk mengambil satu sampel dari data latih"
   ]
  },
  {
   "cell_type": "code",
   "execution_count": null,
   "metadata": {},
   "outputs": [],
   "source": [
    "# Sampel dari dataset training\n",
    "print(vars(train_iterator.dataset[0]))"
   ]
  },
  {
   "cell_type": "markdown",
   "metadata": {},
   "source": [
    "Kode untuk mengecek token dalam matriks embedding"
   ]
  },
  {
   "cell_type": "code",
   "execution_count": null,
   "metadata": {},
   "outputs": [],
   "source": [
    "# Cek token dalam model fastText\n",
    "test_token = \"maxim\"  # Ganti dengan token lain yang sering muncul\n",
    "if test_token in ft_compressed.key_to_index:\n",
    "    print(f\"Token '{test_token}' ditemukan di fastText!\")\n",
    "    print(f\"Vektor embedding: {ft_compressed[test_token]}\")\n",
    "else:\n",
    "    print(f\"Token '{test_token}' TIDAK ditemukan di fastText!\")"
   ]
  },
  {
   "cell_type": "markdown",
   "metadata": {},
   "source": [
    "Kode scraping data versi lama."
   ]
  },
  {
   "cell_type": "code",
   "execution_count": 3,
   "metadata": {},
   "outputs": [
    {
     "data": {
      "text/html": [
       "<div>\n",
       "<style scoped>\n",
       "    .dataframe tbody tr th:only-of-type {\n",
       "        vertical-align: middle;\n",
       "    }\n",
       "\n",
       "    .dataframe tbody tr th {\n",
       "        vertical-align: top;\n",
       "    }\n",
       "\n",
       "    .dataframe thead th {\n",
       "        text-align: right;\n",
       "    }\n",
       "</style>\n",
       "<table border=\"1\" class=\"dataframe\">\n",
       "  <thead>\n",
       "    <tr style=\"text-align: right;\">\n",
       "      <th></th>\n",
       "      <th>content</th>\n",
       "    </tr>\n",
       "  </thead>\n",
       "  <tbody>\n",
       "    <tr>\n",
       "      <th>1</th>\n",
       "      <td>manteps driver nya</td>\n",
       "    </tr>\n",
       "    <tr>\n",
       "      <th>2</th>\n",
       "      <td>baik cepat murah</td>\n",
       "    </tr>\n",
       "    <tr>\n",
       "      <th>3</th>\n",
       "      <td>Maps nya susah ga sesuai lokasi kita,, beda sa...</td>\n",
       "    </tr>\n",
       "    <tr>\n",
       "      <th>4</th>\n",
       "      <td>sangat puas</td>\n",
       "    </tr>\n",
       "    <tr>\n",
       "      <th>5</th>\n",
       "      <td>ok</td>\n",
       "    </tr>\n",
       "  </tbody>\n",
       "</table>\n",
       "</div>"
      ],
      "text/plain": [
       "                                             content\n",
       "1                                 manteps driver nya\n",
       "2                                   baik cepat murah\n",
       "3  Maps nya susah ga sesuai lokasi kita,, beda sa...\n",
       "4                                        sangat puas\n",
       "5                                                 ok"
      ]
     },
     "execution_count": 3,
     "metadata": {},
     "output_type": "execute_result"
    }
   ],
   "source": [
    "# Kode untuk data skripsi (data_scraping.csv)\n",
    "# Membaca file .csv hasil scraping ulasan\n",
    "df = pd.read_csv(\"data_scraping.csv\", engine=\"python\", header=None)\n",
    "\n",
    "# Hapus kolom yang tidak diperlukan, yang diambil hanya \"content\"\n",
    "columns_to_drop = [0,1,2,4,5,6,7,8,9,10]\n",
    "df = df.drop(columns=columns_to_drop)\n",
    "\n",
    "# Hapus baris pertama\n",
    "df = df.rename(columns=df.iloc[0]).drop(df.index[0])\n",
    "\n",
    "# Simpan dataframe yang telah diubah ke dalam file .csv\n",
    "df.to_csv('review_content.csv', index=False)\n",
    "\n",
    "# Memanggil data\n",
    "df.head(5)"
   ]
  },
  {
   "cell_type": "code",
   "execution_count": null,
   "metadata": {},
   "outputs": [],
   "source": [
    "for batch in test_iterator:\n",
    "    text, text_lengths = batch.processed_text\n",
    "    predictions = model(text, text_lengths).squeeze(1)  # Hasil sebelum thresholding\n",
    "    print(predictions[:20])  # Lihat 20 nilai pertama\n",
    "    break"
   ]
  },
  {
   "cell_type": "code",
   "execution_count": null,
   "metadata": {},
   "outputs": [],
   "source": [
    "# Buat DataFrame dari hasil prediksi pada data uji\n",
    "df_results = pd.DataFrame({\n",
    "    'True_Label': all_labels,\n",
    "    'Predicted_Label': all_predictions\n",
    "})\n",
    "\n",
    "# Simpan ke file CSV\n",
    "df_results.to_csv('model_predictions.csv', index=False)\n",
    "\n",
    "print(\"Hasil prediksi telah disimpan dalam 'model_predictions.csv'\")"
   ]
  },
  {
   "cell_type": "code",
   "execution_count": 26,
   "metadata": {},
   "outputs": [
    {
     "name": "stdout",
     "output_type": "stream",
     "text": [
      "              precision    recall  f1-score   support\n",
      "\n",
      "     Negatif       0.86      0.95      0.90       502\n",
      "     Positif       0.82      0.61      0.70       205\n",
      "\n",
      "    accuracy                           0.85       707\n",
      "   macro avg       0.84      0.78      0.80       707\n",
      "weighted avg       0.85      0.85      0.84       707\n",
      "\n"
     ]
    },
    {
     "data": {
      "image/png": "[encoded data removed]",
      "text/plain": [
       "<Figure size 800x600 with 2 Axes>"
      ]
     },
     "metadata": {},
     "output_type": "display_data"
    },
    {
     "name": "stdout",
     "output_type": "stream",
     "text": [
      "Akurasi: 0.85\n",
      "Presisi: 0.82\n",
      "Recall: 0.61\n",
      "F1 Score: 0.70\n"
     ]
    }
   ],
   "source": [
    "# Konversi all_labels ke NumPy array sebelum operasi\n",
    "all_labels = np.array(all_labels)\n",
    "\n",
    "# Tukar label dalam confusion matrix\n",
    "cm = confusion_matrix(1 - all_labels, all_predictions)\n",
    "\n",
    "# Hitung metrik evaluasi pada data test\n",
    "accuracy, precision, recall, f1, all_labels, all_predictions = evaluate_model(model, test_iterator, criterion)\n",
    "\n",
    "# Tampilkan hasil\n",
    "print(f\"Akurasi: {accuracy:.2f}\")\n",
    "print(f\"Presisi: {precision:.2f}\")\n",
    "print(f\"Recall: {recall:.2f}\")\n",
    "print(f\"F1 Score: {f1:.2f}\")"
   ]
  },
  {
   "cell_type": "code",
   "execution_count": 28,
   "metadata": {},
   "outputs": [
    {
     "name": "stdout",
     "output_type": "stream",
     "text": [
      "Jumlah label positif: 205\n",
      "Jumlah label negatif: 502\n",
      "Jumlah prediksi positif: 153\n",
      "Jumlah prediksi negatif: 554\n"
     ]
    }
   ],
   "source": [
    "# Konversi list ke NumPy array jika belum\n",
    "all_labels = np.array(all_labels)\n",
    "all_predictions = np.array(all_predictions)\n",
    "\n",
    "# Cek distribusi label sebelum evaluasi\n",
    "print(f\"Jumlah label positif: {np.sum(all_labels == 1)}\")\n",
    "print(f\"Jumlah label negatif: {np.sum(all_labels == 0)}\")\n",
    "\n",
    "# Cek distribusi prediksi model\n",
    "print(f\"Jumlah prediksi positif: {np.sum(all_predictions == 1)}\")\n",
    "print(f\"Jumlah prediksi negatif: {np.sum(all_predictions == 0)}\")"
   ]
  },
  {
   "cell_type": "code",
   "execution_count": 29,
   "metadata": {},
   "outputs": [
    {
     "name": "stdout",
     "output_type": "stream",
     "text": [
      "vader_sentiment\n",
      "positif    2495\n",
      "negatif    1041\n",
      "Name: count, dtype: int64\n",
      "0.0    502\n",
      "1.0    205\n",
      "Name: count, dtype: int64\n"
     ]
    }
   ],
   "source": [
    "print(df['vader_sentiment'].value_counts())  # Untuk dataset awal\n",
    "print(pd.Series(all_labels).value_counts())  # Untuk dataset evaluasi"
   ]
  },
  {
   "cell_type": "code",
   "execution_count": null,
   "metadata": {},
   "outputs": [],
   "source": [
    "# Dapatkan vektor embedding dari sebuah kata setelah reduksi model\n",
    "vector = ft.get_word_vector(\"transportasi\")\n",
    "print(vector)"
   ]
  },
  {
   "cell_type": "code",
   "execution_count": null,
   "metadata": {},
   "outputs": [],
   "source": [
    "# Kode uji cutoff yang optimal menggunakan quantize\n",
    "for cutoff in [100000, 50000, 25000, 10000, 5000]:\n",
    "    ft = fasttext.load_model(\"cc.id.300.bin\")\n",
    "    ft.quantize(qnorm=True, retrain=True, cutoff=cutoff)\n",
    "    ft.save_model(f\"cc.id.300.quantized_{cutoff}.bin\")\n",
    "    print(f\"Model fastText dengan cutoff {cutoff} disimpan!\")"
   ]
  },
  {
   "cell_type": "code",
   "execution_count": null,
   "metadata": {},
   "outputs": [],
   "source": [
    "# Evaluasi model setelah reduksi model degan quantize\n",
    "from sklearn.metrics import accuracy_score\n",
    "\n",
    "# Load model yang sudah dikurangi dimensinya atau dikompresi\n",
    "ft = fasttext.load_model(\"cc.id.100.quantized_50000.bin\")\n",
    "\n",
    "# Cek akurasi pada dataset validasi\n",
    "predictions = [ft.predict(text)[0][0] for text in valid_texts]  # Ubah sesuai dataset validasi Anda\n",
    "accuracy = accuracy_score(valid_labels, predictions)\n",
    "\n",
    "print(f\"Akurasinya: {accuracy:.4f}\")"
   ]
  },
  {
   "cell_type": "code",
   "execution_count": null,
   "metadata": {},
   "outputs": [],
   "source": [
    "# MENGGUNAKAN DATA VALIDASI\n",
    "# Jumlah epoch untuk melatih model\n",
    "NUM_EPOCHS = 10\n",
    "\n",
    "# Inisialisasi nilai terendah untuk validasi loss\n",
    "best_valid_loss = float('inf')\n",
    "\n",
    "# List untuk menyimpan nilai loss dan accuracy pada setiap epoch\n",
    "train_losses, valid_losses = [], []\n",
    "train_accuracies, valid_accuracies = [], []\n",
    "\n",
    "# Loop untuk setiap epoch\n",
    "for epoch in range(NUM_EPOCHS):\n",
    "\n",
    "    start_time = time.time()  # Catat waktu mulai epoch\n",
    "    \n",
    "    # Menghitung loss dan akurasi pada data latihan\n",
    "    train_loss, train_acc = train(model, train_iterator, optimizer, criterion)\n",
    "    \n",
    "    # Menghitung loss dan akurasi pada data validasi\n",
    "    valid_loss, valid_acc = evaluate(model, valid_iterator, criterion)\n",
    "    \n",
    "    end_time = time.time()  # Catat waktu akhir epoch\n",
    "\n",
    "    # Simpan nilai loss dan accuracy dari setiap epoch\n",
    "    train_losses.append(train_loss)\n",
    "    valid_losses.append(valid_loss)\n",
    "    train_accuracies.append(train_acc)\n",
    "    valid_accuracies.append(valid_acc)\n",
    "\n",
    "    # Menghitung waktu total yang dihabiskan untuk setiap epoch\n",
    "    mins, secs = timer(start_time, end_time)\n",
    "    \n",
    "    # Mengecek apakah validasi loss saat ini lebih baik dari sebelumnya\n",
    "    if valid_loss < best_valid_loss:\n",
    "        best_valid_loss = valid_loss  # Perbarui nilai validasi loss terbaik\n",
    "        torch.save(model.state_dict(), 'model-small.pt')  # Simpan parameter model jika validasi loss terbaik diperoleh\n",
    "\n",
    "    # Menampilkan hasil dari setiap epoch\n",
    "    print(\"Epoch {}:\".format(epoch+1))\n",
    "    print(\"\\t Total Time: {}m {}s\".format(mins, secs))\n",
    "    print(\"\\t Train Loss {} | Train Accuracy: {}%\".format(round(train_loss, 2), round(train_acc*100, 2)))\n",
    "    print(\"\\t Validation Loss {} | Validation Accuracy: {}%\".format(round(valid_loss, 2), round(valid_acc*100, 2)))"
   ]
  },
  {
   "attachments": {},
   "cell_type": "markdown",
   "metadata": {},
   "source": [
    "Precision, Recall, F1-score, dan Support untuk Setiap Kelas\n",
    "\n",
    "    Kelas 0.0 (Negatif, misalnya):\n",
    "        Precision: 0.87 — 87% dari prediksi kelas 0.0 adalah benar.\n",
    "        Recall: 0.76 — 76% dari contoh data sebenarnya yang berlabel 0.0 berhasil diprediksi dengan benar.\n",
    "        F1-score: 0.81 — Ini adalah rata-rata harmonis dari precision dan recall untuk kelas 0.0.\n",
    "        Support: 17 — Ada 17 contoh data yang memiliki label 0.0 dalam dataset ini.\n",
    "    Kelas 1.0 (Positif, misalnya):\n",
    "        Precision: 0.20 — Hanya 20% dari prediksi kelas 1.0 yang benar-benar positif.\n",
    "        Recall: 0.33 — Model hanya mampu mendeteksi 33% dari contoh data yang seharusnya berlabel 1.0.\n",
    "        F1-score: 0.25 — Rata-rata harmonis dari precision dan recall untuk kelas 1.0.\n",
    "        Support: 3 — Hanya ada 3 contoh data yang berlabel 1.0 di dalam dataset ini.\n",
    "\n",
    "Interpretasi:\n",
    "\n",
    "    Kelas 0.0 memiliki nilai precision, recall, dan F1-score yang jauh lebih tinggi dibandingkan kelas 1.0. Ini menunjukkan bahwa model Anda lebih baik dalam memprediksi kelas 0.0 dibandingkan kelas 1.0.\n",
    "    Kelas 1.0 memiliki metrik yang rendah, yang mengindikasikan bahwa model kesulitan dalam mendeteksi contoh yang berlabel 1.0.\n",
    "\n",
    "Akurasi (Accuracy)\n",
    "\n",
    "    Akurasi: 0.70 — Model memiliki akurasi sebesar 70%, yang berarti 70% dari total prediksi model adalah benar.\n",
    "    Akurasi menunjukkan keseluruhan prediksi yang benar, namun pada dataset yang tidak seimbang, akurasi bisa menyesatkan. Misalnya, jika sebagian besar data berlabel 0, model mungkin hanya fokus pada prediksi 0 untuk mendapatkan akurasi tinggi.\n",
    "\n",
    "Macro Average (Rata-rata Makro)\n",
    "\n",
    "    Macro avg untuk precision, recall, dan F1-score adalah rata-rata metrik dari masing-masing kelas, tanpa mempertimbangkan jumlah contoh (support) di setiap kelas.\n",
    "    Pada hasil ini:\n",
    "        Macro Precision: 0.53 — Rata-rata precision dari dua kelas (0.87 dan 0.20) adalah 0.53.\n",
    "        Macro Recall: 0.55 — Rata-rata recall dari dua kelas (0.76 dan 0.33) adalah 0.55.\n",
    "        Macro F1: 0.53 — Rata-rata F1-score dari dua kelas (0.81 dan 0.25) adalah 0.53.\n",
    "\n",
    "Interpretasi:\n",
    "\n",
    "    Macro avg menunjukkan kinerja rata-rata tanpa memperhatikan ketidakseimbangan kelas, sehingga ini berguna untuk memahami performa model di kedua kelas secara seimbang.\n",
    "\n",
    "Weighted Average (Rata-rata Tertimbang)\n",
    "\n",
    "    Weighted avg mempertimbangkan support (jumlah contoh) di setiap kelas. Metrik ini lebih relevan untuk dataset yang tidak seimbang.\n",
    "    Pada hasil ini:\n",
    "        Weighted Precision: 0.77 — Precision keseluruhan tertimbang berdasarkan jumlah contoh di tiap kelas.\n",
    "        Weighted Recall: 0.70 — Recall keseluruhan tertimbang.\n",
    "        Weighted F1: 0.73 — F1-score keseluruhan tertimbang.\n",
    "\n",
    "Interpretasi:\n",
    "\n",
    "    Weighted avg lebih mencerminkan performa aktual model pada dataset yang tidak seimbang. Nilai weighted F1-score sebesar 0.73 menunjukkan bahwa, meskipun model cukup baik untuk kelas mayoritas (0.0), performanya pada kelas minoritas (1.0) perlu ditingkatkan."
   ]
  },
  {
   "cell_type": "markdown",
   "metadata": {},
   "source": [
    "Kode ini berfungsi untuk evaluasi model, namun versi ini menunjukkan metrik untuk sentimen negatif. Kode ini juga versi asli dari evaluasi model."
   ]
  },
  {
   "cell_type": "code",
   "execution_count": null,
   "metadata": {},
   "outputs": [],
   "source": [
    "# Fungsi evaluasi model untuk klasifikasi dua kelas (positif dan negatif)\n",
    "def evaluate_model(model, iterator, criterion):\n",
    "                          \n",
    "    model.eval()\n",
    "    all_predictions = []\n",
    "    all_labels = []\n",
    "\n",
    "    with torch.no_grad():\n",
    "        for batch in iterator:\n",
    "            # Ambil teks dan panjang teks dari batchoss\n",
    "            text, text_lengths = batch.processed_text\n",
    "\n",
    "            # Dapatkan prediksi model\n",
    "            predictions = model(text, text_lengths).squeeze(1)\n",
    "            \n",
    "            # Konversi prediksi menjadi label (0 atau 1)\n",
    "            rounded_preds = torch.round(torch.sigmoid(predictions))\n",
    "            \n",
    "            # Tambahkan prediksi dan label asli ke list\n",
    "            all_predictions.extend(rounded_preds.cpu().numpy())\n",
    "            all_labels.extend(batch.vader_sentiment.cpu().numpy())\n",
    "\n",
    "    # Hitung metrik evaluasi untuk binary classification\n",
    "    accuracy = accuracy_score(all_labels, all_predictions)\n",
    "    precision = precision_score(all_labels, all_predictions, average='binary')\n",
    "    recall = recall_score(all_labels, all_predictions, average='binary')\n",
    "    f1 = f1_score(all_labels, all_predictions, average='binary')\n",
    "    \n",
    "    # Tampilkan laporan klasifikasi lengkap (opsional)\n",
    "    print(classification_report(all_labels, all_predictions, target_names=['Positif', 'Negatif']))\n",
    "    \n",
    "    # Buat confusion matrix\n",
    "    cm = confusion_matrix(all_labels, all_predictions)\n",
    "    \n",
    "    # Visualisasi confusion matrix\n",
    "    plt.figure(figsize=(8, 6))\n",
    "    sns.heatmap(cm, annot=True, fmt=\"d\", cmap=\"Blues\", xticklabels=['Positif', 'Negatif'], yticklabels=['Positif', 'Negatif'])\n",
    "    plt.xlabel('Predicted Labels')\n",
    "    plt.ylabel('True Labels')\n",
    "    plt.title('Confusion Matrix')\n",
    "    plt.show()\n",
    "    \n",
    "    return accuracy, precision, recall, f1, all_labels, all_predictions"
   ]
  },
  {
   "cell_type": "code",
   "execution_count": null,
   "metadata": {},
   "outputs": [],
   "source": [
    "# Hitung metrik evaluasi pada data test\n",
    "accuracy, precision, recall, f1, all_labels, all_predictions = evaluate_model(model, test_iterator, criterion)\n",
    "\n",
    "# Tampilkan hasil\n",
    "print(f\"Akurasi: {accuracy:.2f}\")\n",
    "print(f\"Presisi: {precision:.2f}\")\n",
    "print(f\"Recall: {recall:.2f}\")\n",
    "print(f\"F1 Score: {f1:.2f}\")"
   ]
  },
  {
   "cell_type": "markdown",
   "metadata": {},
   "source": [
    "### **Kode Bersih**\n",
    "Kode yang lebih bersih dan padat guna mengefisienkan ruang. Digunakan untuk kebutuhan skripsi."
   ]
  },
  {
   "cell_type": "markdown",
   "metadata": {},
   "source": [
    "Text Preprocessing"
   ]
  },
  {
   "cell_type": "code",
   "execution_count": null,
   "metadata": {},
   "outputs": [],
   "source": [
    "# Kode per langkah preprocessing\n",
    "# Step 1: Cleansing text\n",
    "def clean_text(text):\n",
    "    text = re.sub(r'http\\S+|www\\S+|https\\S+', '', text, flags=re.MULTILINE)  \n",
    "    text = re.sub(r'\\d+', '', text)  \n",
    "    text = re.sub(r'[^a-zA-Z\\s]', '', text) \n",
    "    text = re.sub(r'\\s+', ' ', text).strip()\n",
    "    return text\n",
    "\n",
    "# Step 2: Case folding\n",
    "def case_folding(text):\n",
    "    return text.lower()\n",
    "\n",
    "# Step 3: Tokenisasi\n",
    "def tokenize(text):\n",
    "    doc = nlp(text)\n",
    "    return [token.text for token in doc] \n",
    "\n",
    "# Step 4: Menghapus stopword menggunakan daftar dari Sastrawi\n",
    "stopword_factory = StopWordRemoverFactory()\n",
    "stopword_list = set(stopword_factory.get_stop_words()) \n",
    "\n",
    "def remove_stopwords(tokens):\n",
    "    return [word for word in tokens if word not in stopword_list]\n",
    "\n",
    "# Step 5: Stemming menggunakan Sastrawi\n",
    "stemmer_factory = StemmerFactory()\n",
    "stemmer = stemmer_factory.create_stemmer()\n",
    "\n",
    "def stemming(tokens):\n",
    "    return [stemmer.stem(word) for word in tokens]"
   ]
  },
  {
   "cell_type": "code",
   "execution_count": null,
   "metadata": {},
   "outputs": [],
   "source": [
    "# Fungsi untuk menyimpan hasil setiap langkah ke CSV\n",
    "def save_to_csv(df, step_name):\n",
    "    filename = f'processed_data_{step_name}.csv'\n",
    "    df.to_csv(filename, index=False)\n",
    "    print(f\"Saved {step_name} result to {filename}\")\n",
    "\n",
    "# Fungsi utama untuk memproses dan menyimpan setiap langkah\n",
    "def process_and_save_steps(df):\n",
    "    # Step 1: Cleansing text\n",
    "    df['cleaned_text'] = df['content'].apply(clean_text)\n",
    "    save_to_csv(df[['content', 'cleaned_text']], 'cleansing')\n",
    "\n",
    "    # Step 2: Case folding\n",
    "    df['case_folding'] = df['cleaned_text'].apply(case_folding)\n",
    "    save_to_csv(df[['cleaned_text', 'case_folding']], 'case_folding')\n",
    "\n",
    "    # Step 3: Tokenisasi\n",
    "    df['tokenized_text'] = df['case_folding'].apply(tokenize)\n",
    "    save_to_csv(df[['case_folding', 'tokenized_text']], 'tokenization')\n",
    "\n",
    "    # Step 4: Penghapusan stopword\n",
    "    df['no_stopwords'] = df['tokenized_text'].apply(remove_stopwords)\n",
    "    save_to_csv(df[['tokenized_text', 'no_stopwords']], 'stopword_removal')\n",
    "\n",
    "    # Step 5: Stemming\n",
    "    df['stemmed_text'] = df['no_stopwords'].apply(stemming)\n",
    "    save_to_csv(df[['no_stopwords', 'stemmed_text']], 'stemming')\n",
    "\n",
    "# Membaca file CSV sebagai DataFrame\n",
    "df = pd.read_csv('review_content.csv')\n",
    "\n",
    "# Menjalankan proses preprocessing\n",
    "process_and_save_steps(df)"
   ]
  }
 ],
 "metadata": {
  "accelerator": "GPU",
  "colab": {
   "collapsed_sections": [],
   "name": "sentiment140",
   "provenance": []
  },
  "kernelspec": {
   "display_name": "Python 3",
   "language": "python",
   "name": "python3"
  },
  "language_info": {
   "codemirror_mode": {
    "name": "ipython",
    "version": 3
   },
   "file_extension": ".py",
   "mimetype": "text/x-python",
   "name": "python",
   "nbconvert_exporter": "python",
   "pygments_lexer": "ipython3",
   "version": "3.8.10"
  },
  "vscode": {
   "interpreter": {
    "hash": "723d4b7bc280cd31fdada53ad6420192b9a3a8d60631096143cc718cb9440dc1"
   }
  }
 },
 "nbformat": 4,
 "nbformat_minor": 1
}
